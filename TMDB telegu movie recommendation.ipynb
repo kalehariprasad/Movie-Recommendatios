{
 "cells": [
  {
   "cell_type": "markdown",
   "id": "3362a438",
   "metadata": {},
   "source": [
    "# Building a movie recommendation system for telugu movies "
   ]
  },
  {
   "cell_type": "markdown",
   "id": "e0f13789",
   "metadata": {},
   "source": [
    "importin all required libraries"
   ]
  },
  {
   "cell_type": "code",
   "execution_count": 1,
   "id": "e6861743",
   "metadata": {},
   "outputs": [
    {
     "name": "stderr",
     "output_type": "stream",
     "text": [
      "C:\\Users\\User\\anaconda3\\lib\\site-packages\\scipy\\__init__.py:146: UserWarning: A NumPy version >=1.16.5 and <1.23.0 is required for this version of SciPy (detected version 1.24.3\n",
      "  warnings.warn(f\"A NumPy version >={np_minversion} and <{np_maxversion}\"\n"
     ]
    }
   ],
   "source": [
    "import pandas as pd\n",
    "import numpy as np \n",
    "import ast\n",
    "from sklearn.feature_extraction.text import CountVectorizer\n",
    "import nltk\n",
    "from sklearn.metrics.pairwise import cosine_similarity\n",
    "import pickle"
   ]
  },
  {
   "cell_type": "markdown",
   "id": "f4b7e90d",
   "metadata": {},
   "source": [
    "Reading data frames containg features  "
   ]
  },
  {
   "cell_type": "code",
   "execution_count": 2,
   "id": "1721671a",
   "metadata": {},
   "outputs": [],
   "source": [
    "movie=pd.read_csv('TMDB telugu movie details.csv',index_col=0)\n",
    "genres=pd.read_csv('Genres.csv',index_col=0)\n",
    "cast=pd.read_csv('cast_details.csv',index_col=0)\n"
   ]
  },
  {
   "cell_type": "code",
   "execution_count": 3,
   "id": "bcff91e9",
   "metadata": {
    "scrolled": true
   },
   "outputs": [
    {
     "data": {
      "text/html": [
       "<div>\n",
       "<style scoped>\n",
       "    .dataframe tbody tr th:only-of-type {\n",
       "        vertical-align: middle;\n",
       "    }\n",
       "\n",
       "    .dataframe tbody tr th {\n",
       "        vertical-align: top;\n",
       "    }\n",
       "\n",
       "    .dataframe thead th {\n",
       "        text-align: right;\n",
       "    }\n",
       "</style>\n",
       "<table border=\"1\" class=\"dataframe\">\n",
       "  <thead>\n",
       "    <tr style=\"text-align: right;\">\n",
       "      <th></th>\n",
       "      <th>id</th>\n",
       "      <th>genre_ids</th>\n",
       "      <th>title</th>\n",
       "      <th>overview</th>\n",
       "      <th>poster_path</th>\n",
       "    </tr>\n",
       "  </thead>\n",
       "  <tbody>\n",
       "    <tr>\n",
       "      <th>0</th>\n",
       "      <td>579974</td>\n",
       "      <td>[28, 18]</td>\n",
       "      <td>RRR</td>\n",
       "      <td>A fictional history of two legendary revolutio...</td>\n",
       "      <td>/nEufeZlyAOLqO2brrs0yeF1lgXO.jpg</td>\n",
       "    </tr>\n",
       "    <tr>\n",
       "      <th>1</th>\n",
       "      <td>256040</td>\n",
       "      <td>[28, 12, 18, 14]</td>\n",
       "      <td>Bāhubali: The Beginning</td>\n",
       "      <td>The young Shivudu is left as a foundling in a ...</td>\n",
       "      <td>/9BAjt8nSSms62uOVYn1t3C3dVto.jpg</td>\n",
       "    </tr>\n",
       "    <tr>\n",
       "      <th>2</th>\n",
       "      <td>690957</td>\n",
       "      <td>[28, 18, 53]</td>\n",
       "      <td>Pushpa: The Rise - Part 1</td>\n",
       "      <td>Pushpa Raj is a coolie who rises in the world ...</td>\n",
       "      <td>/r1yAzVQNbCbPTbB3GZFour9Qr0t.jpg</td>\n",
       "    </tr>\n",
       "    <tr>\n",
       "      <th>3</th>\n",
       "      <td>350312</td>\n",
       "      <td>[28, 12, 14]</td>\n",
       "      <td>Bāhubali 2: The Conclusion</td>\n",
       "      <td>When Mahendra, the son of Bāhubali, learns abo...</td>\n",
       "      <td>/21sC2assImQIYCEDA84Qh9d1RsK.jpg</td>\n",
       "    </tr>\n",
       "    <tr>\n",
       "      <th>4</th>\n",
       "      <td>901277</td>\n",
       "      <td>[80, 53]</td>\n",
       "      <td>CSI Sanatan</td>\n",
       "      <td>When a buisness tycoon Vikram Chakravarthi get...</td>\n",
       "      <td>/yscCuJsNYDh2vHc6VrASnZcbaDw.jpg</td>\n",
       "    </tr>\n",
       "  </tbody>\n",
       "</table>\n",
       "</div>"
      ],
      "text/plain": [
       "       id         genre_ids                       title  \\\n",
       "0  579974          [28, 18]                         RRR   \n",
       "1  256040  [28, 12, 18, 14]     Bāhubali: The Beginning   \n",
       "2  690957      [28, 18, 53]   Pushpa: The Rise - Part 1   \n",
       "3  350312      [28, 12, 14]  Bāhubali 2: The Conclusion   \n",
       "4  901277          [80, 53]                 CSI Sanatan   \n",
       "\n",
       "                                            overview  \\\n",
       "0  A fictional history of two legendary revolutio...   \n",
       "1  The young Shivudu is left as a foundling in a ...   \n",
       "2  Pushpa Raj is a coolie who rises in the world ...   \n",
       "3  When Mahendra, the son of Bāhubali, learns abo...   \n",
       "4  When a buisness tycoon Vikram Chakravarthi get...   \n",
       "\n",
       "                        poster_path  \n",
       "0  /nEufeZlyAOLqO2brrs0yeF1lgXO.jpg  \n",
       "1  /9BAjt8nSSms62uOVYn1t3C3dVto.jpg  \n",
       "2  /r1yAzVQNbCbPTbB3GZFour9Qr0t.jpg  \n",
       "3  /21sC2assImQIYCEDA84Qh9d1RsK.jpg  \n",
       "4  /yscCuJsNYDh2vHc6VrASnZcbaDw.jpg  "
      ]
     },
     "execution_count": 3,
     "metadata": {},
     "output_type": "execute_result"
    }
   ],
   "source": [
    "movie.head()"
   ]
  },
  {
   "cell_type": "code",
   "execution_count": 4,
   "id": "eb6625db",
   "metadata": {
    "scrolled": true
   },
   "outputs": [
    {
     "data": {
      "text/html": [
       "<div>\n",
       "<style scoped>\n",
       "    .dataframe tbody tr th:only-of-type {\n",
       "        vertical-align: middle;\n",
       "    }\n",
       "\n",
       "    .dataframe tbody tr th {\n",
       "        vertical-align: top;\n",
       "    }\n",
       "\n",
       "    .dataframe thead th {\n",
       "        text-align: right;\n",
       "    }\n",
       "</style>\n",
       "<table border=\"1\" class=\"dataframe\">\n",
       "  <thead>\n",
       "    <tr style=\"text-align: right;\">\n",
       "      <th></th>\n",
       "      <th>adult</th>\n",
       "      <th>gender</th>\n",
       "      <th>id</th>\n",
       "      <th>known_for_department</th>\n",
       "      <th>name</th>\n",
       "      <th>original_name</th>\n",
       "      <th>popularity</th>\n",
       "      <th>profile_path</th>\n",
       "      <th>cast_id</th>\n",
       "      <th>character</th>\n",
       "      <th>credit_id</th>\n",
       "      <th>order</th>\n",
       "    </tr>\n",
       "  </thead>\n",
       "  <tbody>\n",
       "    <tr>\n",
       "      <th>0</th>\n",
       "      <td>False</td>\n",
       "      <td>2.0</td>\n",
       "      <td>579974</td>\n",
       "      <td>Acting</td>\n",
       "      <td>N. T. Rama Rao Jr.</td>\n",
       "      <td>N. T. Rama Rao Jr.</td>\n",
       "      <td>13.410</td>\n",
       "      <td>/kMz1SZFt7ynfL8kxs7mZZHkSzkc.jpg</td>\n",
       "      <td>1.0</td>\n",
       "      <td>Komaram Bheem</td>\n",
       "      <td>5c57c795c3a368478ca254ea</td>\n",
       "      <td>0.0</td>\n",
       "    </tr>\n",
       "    <tr>\n",
       "      <th>1</th>\n",
       "      <td>False</td>\n",
       "      <td>2.0</td>\n",
       "      <td>579974</td>\n",
       "      <td>Acting</td>\n",
       "      <td>Ram Charan</td>\n",
       "      <td>Ram Charan</td>\n",
       "      <td>15.840</td>\n",
       "      <td>/mNQA0qYtLeemo7mljd9RlG9jUMR.jpg</td>\n",
       "      <td>2.0</td>\n",
       "      <td>Alluri Sitarama Raju</td>\n",
       "      <td>5c57c7a192514151a965696f</td>\n",
       "      <td>1.0</td>\n",
       "    </tr>\n",
       "    <tr>\n",
       "      <th>2</th>\n",
       "      <td>False</td>\n",
       "      <td>2.0</td>\n",
       "      <td>579974</td>\n",
       "      <td>Acting</td>\n",
       "      <td>Ajay Devgn</td>\n",
       "      <td>Ajay Devgn</td>\n",
       "      <td>14.079</td>\n",
       "      <td>/vnHQQFzTjJ0sv14DGMIoKa3qTxN.jpg</td>\n",
       "      <td>12.0</td>\n",
       "      <td>Venkata Rama Raju</td>\n",
       "      <td>5c8f45940e0a261304586785</td>\n",
       "      <td>2.0</td>\n",
       "    </tr>\n",
       "    <tr>\n",
       "      <th>3</th>\n",
       "      <td>False</td>\n",
       "      <td>1.0</td>\n",
       "      <td>579974</td>\n",
       "      <td>Acting</td>\n",
       "      <td>Alia Bhatt</td>\n",
       "      <td>Alia Bhatt</td>\n",
       "      <td>10.690</td>\n",
       "      <td>/RBnTJPegPFLBS4VPsNLbf6iAoD.jpg</td>\n",
       "      <td>11.0</td>\n",
       "      <td>Sita</td>\n",
       "      <td>5c8f454fc3a36861194ddbeb</td>\n",
       "      <td>3.0</td>\n",
       "    </tr>\n",
       "    <tr>\n",
       "      <th>4</th>\n",
       "      <td>False</td>\n",
       "      <td>1.0</td>\n",
       "      <td>579974</td>\n",
       "      <td>Acting</td>\n",
       "      <td>Shriya Saran</td>\n",
       "      <td>Shriya Saran</td>\n",
       "      <td>7.211</td>\n",
       "      <td>/ioOgKBSCJhOdKoZpg86ld7zANbf.jpg</td>\n",
       "      <td>38.0</td>\n",
       "      <td>Sarojini</td>\n",
       "      <td>61051102fdc14600731f51cb</td>\n",
       "      <td>4.0</td>\n",
       "    </tr>\n",
       "  </tbody>\n",
       "</table>\n",
       "</div>"
      ],
      "text/plain": [
       "   adult  gender      id known_for_department                name  \\\n",
       "0  False     2.0  579974               Acting  N. T. Rama Rao Jr.   \n",
       "1  False     2.0  579974               Acting          Ram Charan   \n",
       "2  False     2.0  579974               Acting          Ajay Devgn   \n",
       "3  False     1.0  579974               Acting          Alia Bhatt   \n",
       "4  False     1.0  579974               Acting        Shriya Saran   \n",
       "\n",
       "        original_name  popularity                      profile_path  cast_id  \\\n",
       "0  N. T. Rama Rao Jr.      13.410  /kMz1SZFt7ynfL8kxs7mZZHkSzkc.jpg      1.0   \n",
       "1          Ram Charan      15.840  /mNQA0qYtLeemo7mljd9RlG9jUMR.jpg      2.0   \n",
       "2          Ajay Devgn      14.079  /vnHQQFzTjJ0sv14DGMIoKa3qTxN.jpg     12.0   \n",
       "3          Alia Bhatt      10.690   /RBnTJPegPFLBS4VPsNLbf6iAoD.jpg     11.0   \n",
       "4        Shriya Saran       7.211  /ioOgKBSCJhOdKoZpg86ld7zANbf.jpg     38.0   \n",
       "\n",
       "              character                 credit_id  order  \n",
       "0         Komaram Bheem  5c57c795c3a368478ca254ea    0.0  \n",
       "1  Alluri Sitarama Raju  5c57c7a192514151a965696f    1.0  \n",
       "2     Venkata Rama Raju  5c8f45940e0a261304586785    2.0  \n",
       "3                  Sita  5c8f454fc3a36861194ddbeb    3.0  \n",
       "4              Sarojini  61051102fdc14600731f51cb    4.0  "
      ]
     },
     "execution_count": 4,
     "metadata": {},
     "output_type": "execute_result"
    }
   ],
   "source": [
    "cast.head()"
   ]
  },
  {
   "cell_type": "markdown",
   "id": "e52bba9d",
   "metadata": {},
   "source": [
    "checking for null values in movie dataframe"
   ]
  },
  {
   "cell_type": "code",
   "execution_count": 5,
   "id": "013c9369",
   "metadata": {},
   "outputs": [
    {
     "data": {
      "text/plain": [
       "id               0\n",
       "genre_ids        0\n",
       "title            0\n",
       "overview       227\n",
       "poster_path    557\n",
       "dtype: int64"
      ]
     },
     "execution_count": 5,
     "metadata": {},
     "output_type": "execute_result"
    }
   ],
   "source": [
    "movie.isnull().sum()"
   ]
  },
  {
   "cell_type": "markdown",
   "id": "e2f6741d",
   "metadata": {},
   "source": [
    "movie contains null values of 230 overview columnn and 568 poster_path column "
   ]
  },
  {
   "cell_type": "code",
   "execution_count": 6,
   "id": "30fa5b2e",
   "metadata": {},
   "outputs": [
    {
     "data": {
      "text/html": [
       "<div>\n",
       "<style scoped>\n",
       "    .dataframe tbody tr th:only-of-type {\n",
       "        vertical-align: middle;\n",
       "    }\n",
       "\n",
       "    .dataframe tbody tr th {\n",
       "        vertical-align: top;\n",
       "    }\n",
       "\n",
       "    .dataframe thead th {\n",
       "        text-align: right;\n",
       "    }\n",
       "</style>\n",
       "<table border=\"1\" class=\"dataframe\">\n",
       "  <thead>\n",
       "    <tr style=\"text-align: right;\">\n",
       "      <th></th>\n",
       "      <th>id</th>\n",
       "      <th>name</th>\n",
       "    </tr>\n",
       "  </thead>\n",
       "  <tbody>\n",
       "    <tr>\n",
       "      <th>0</th>\n",
       "      <td>28</td>\n",
       "      <td>Action</td>\n",
       "    </tr>\n",
       "    <tr>\n",
       "      <th>1</th>\n",
       "      <td>12</td>\n",
       "      <td>Adventure</td>\n",
       "    </tr>\n",
       "    <tr>\n",
       "      <th>2</th>\n",
       "      <td>16</td>\n",
       "      <td>Animation</td>\n",
       "    </tr>\n",
       "    <tr>\n",
       "      <th>3</th>\n",
       "      <td>35</td>\n",
       "      <td>Comedy</td>\n",
       "    </tr>\n",
       "    <tr>\n",
       "      <th>4</th>\n",
       "      <td>80</td>\n",
       "      <td>Crime</td>\n",
       "    </tr>\n",
       "    <tr>\n",
       "      <th>5</th>\n",
       "      <td>99</td>\n",
       "      <td>Documentary</td>\n",
       "    </tr>\n",
       "    <tr>\n",
       "      <th>6</th>\n",
       "      <td>18</td>\n",
       "      <td>Drama</td>\n",
       "    </tr>\n",
       "    <tr>\n",
       "      <th>7</th>\n",
       "      <td>10751</td>\n",
       "      <td>Family</td>\n",
       "    </tr>\n",
       "    <tr>\n",
       "      <th>8</th>\n",
       "      <td>14</td>\n",
       "      <td>Fantasy</td>\n",
       "    </tr>\n",
       "    <tr>\n",
       "      <th>9</th>\n",
       "      <td>36</td>\n",
       "      <td>History</td>\n",
       "    </tr>\n",
       "    <tr>\n",
       "      <th>10</th>\n",
       "      <td>27</td>\n",
       "      <td>Horror</td>\n",
       "    </tr>\n",
       "    <tr>\n",
       "      <th>11</th>\n",
       "      <td>10402</td>\n",
       "      <td>Music</td>\n",
       "    </tr>\n",
       "    <tr>\n",
       "      <th>12</th>\n",
       "      <td>9648</td>\n",
       "      <td>Mystery</td>\n",
       "    </tr>\n",
       "    <tr>\n",
       "      <th>13</th>\n",
       "      <td>10749</td>\n",
       "      <td>Romance</td>\n",
       "    </tr>\n",
       "    <tr>\n",
       "      <th>14</th>\n",
       "      <td>878</td>\n",
       "      <td>Science Fiction</td>\n",
       "    </tr>\n",
       "    <tr>\n",
       "      <th>15</th>\n",
       "      <td>10770</td>\n",
       "      <td>TV Movie</td>\n",
       "    </tr>\n",
       "    <tr>\n",
       "      <th>16</th>\n",
       "      <td>53</td>\n",
       "      <td>Thriller</td>\n",
       "    </tr>\n",
       "    <tr>\n",
       "      <th>17</th>\n",
       "      <td>10752</td>\n",
       "      <td>War</td>\n",
       "    </tr>\n",
       "    <tr>\n",
       "      <th>18</th>\n",
       "      <td>37</td>\n",
       "      <td>Western</td>\n",
       "    </tr>\n",
       "  </tbody>\n",
       "</table>\n",
       "</div>"
      ],
      "text/plain": [
       "       id             name\n",
       "0      28           Action\n",
       "1      12        Adventure\n",
       "2      16        Animation\n",
       "3      35           Comedy\n",
       "4      80            Crime\n",
       "5      99      Documentary\n",
       "6      18            Drama\n",
       "7   10751           Family\n",
       "8      14          Fantasy\n",
       "9      36          History\n",
       "10     27           Horror\n",
       "11  10402            Music\n",
       "12   9648          Mystery\n",
       "13  10749          Romance\n",
       "14    878  Science Fiction\n",
       "15  10770         TV Movie\n",
       "16     53         Thriller\n",
       "17  10752              War\n",
       "18     37          Western"
      ]
     },
     "execution_count": 6,
     "metadata": {},
     "output_type": "execute_result"
    }
   ],
   "source": [
    "  genres"
   ]
  },
  {
   "cell_type": "markdown",
   "id": "0d2858c0",
   "metadata": {},
   "source": [
    "extracting geners columnn details by using genre_ids and storing as genre column in movie dataframe"
   ]
  },
  {
   "cell_type": "code",
   "execution_count": 7,
   "id": "1b9d3786",
   "metadata": {},
   "outputs": [],
   "source": [
    "id_name_dict = dict(zip(genres['id'], genres['name']))\n",
    "movie['genre'] = [ [id_name_dict[i] for i in ast.literal_eval(row)] for row in movie['genre_ids'] ]\n"
   ]
  },
  {
   "cell_type": "code",
   "execution_count": 8,
   "id": "d0f88961",
   "metadata": {},
   "outputs": [
    {
     "data": {
      "text/html": [
       "<div>\n",
       "<style scoped>\n",
       "    .dataframe tbody tr th:only-of-type {\n",
       "        vertical-align: middle;\n",
       "    }\n",
       "\n",
       "    .dataframe tbody tr th {\n",
       "        vertical-align: top;\n",
       "    }\n",
       "\n",
       "    .dataframe thead th {\n",
       "        text-align: right;\n",
       "    }\n",
       "</style>\n",
       "<table border=\"1\" class=\"dataframe\">\n",
       "  <thead>\n",
       "    <tr style=\"text-align: right;\">\n",
       "      <th></th>\n",
       "      <th>id</th>\n",
       "      <th>genre_ids</th>\n",
       "      <th>title</th>\n",
       "      <th>overview</th>\n",
       "      <th>poster_path</th>\n",
       "      <th>genre</th>\n",
       "    </tr>\n",
       "  </thead>\n",
       "  <tbody>\n",
       "    <tr>\n",
       "      <th>0</th>\n",
       "      <td>579974</td>\n",
       "      <td>[28, 18]</td>\n",
       "      <td>RRR</td>\n",
       "      <td>A fictional history of two legendary revolutio...</td>\n",
       "      <td>/nEufeZlyAOLqO2brrs0yeF1lgXO.jpg</td>\n",
       "      <td>[Action, Drama]</td>\n",
       "    </tr>\n",
       "    <tr>\n",
       "      <th>1</th>\n",
       "      <td>256040</td>\n",
       "      <td>[28, 12, 18, 14]</td>\n",
       "      <td>Bāhubali: The Beginning</td>\n",
       "      <td>The young Shivudu is left as a foundling in a ...</td>\n",
       "      <td>/9BAjt8nSSms62uOVYn1t3C3dVto.jpg</td>\n",
       "      <td>[Action, Adventure, Drama, Fantasy]</td>\n",
       "    </tr>\n",
       "    <tr>\n",
       "      <th>2</th>\n",
       "      <td>690957</td>\n",
       "      <td>[28, 18, 53]</td>\n",
       "      <td>Pushpa: The Rise - Part 1</td>\n",
       "      <td>Pushpa Raj is a coolie who rises in the world ...</td>\n",
       "      <td>/r1yAzVQNbCbPTbB3GZFour9Qr0t.jpg</td>\n",
       "      <td>[Action, Drama, Thriller]</td>\n",
       "    </tr>\n",
       "    <tr>\n",
       "      <th>3</th>\n",
       "      <td>350312</td>\n",
       "      <td>[28, 12, 14]</td>\n",
       "      <td>Bāhubali 2: The Conclusion</td>\n",
       "      <td>When Mahendra, the son of Bāhubali, learns abo...</td>\n",
       "      <td>/21sC2assImQIYCEDA84Qh9d1RsK.jpg</td>\n",
       "      <td>[Action, Adventure, Fantasy]</td>\n",
       "    </tr>\n",
       "    <tr>\n",
       "      <th>4</th>\n",
       "      <td>901277</td>\n",
       "      <td>[80, 53]</td>\n",
       "      <td>CSI Sanatan</td>\n",
       "      <td>When a buisness tycoon Vikram Chakravarthi get...</td>\n",
       "      <td>/yscCuJsNYDh2vHc6VrASnZcbaDw.jpg</td>\n",
       "      <td>[Crime, Thriller]</td>\n",
       "    </tr>\n",
       "    <tr>\n",
       "      <th>...</th>\n",
       "      <td>...</td>\n",
       "      <td>...</td>\n",
       "      <td>...</td>\n",
       "      <td>...</td>\n",
       "      <td>...</td>\n",
       "      <td>...</td>\n",
       "    </tr>\n",
       "    <tr>\n",
       "      <th>2415</th>\n",
       "      <td>274754</td>\n",
       "      <td>[35]</td>\n",
       "      <td>Andagadu</td>\n",
       "      <td>Though he's successful in his career composing...</td>\n",
       "      <td>/iR3pxOIigseQRfqCAmr4yKcLu7f.jpg</td>\n",
       "      <td>[Comedy]</td>\n",
       "    </tr>\n",
       "    <tr>\n",
       "      <th>2416</th>\n",
       "      <td>272227</td>\n",
       "      <td>[]</td>\n",
       "      <td>Love Birds</td>\n",
       "      <td>Drama / Foreign - A love story about Arun and ...</td>\n",
       "      <td>NaN</td>\n",
       "      <td>[]</td>\n",
       "    </tr>\n",
       "    <tr>\n",
       "      <th>2417</th>\n",
       "      <td>270720</td>\n",
       "      <td>[10749]</td>\n",
       "      <td>Pyar Mein Padipoyane</td>\n",
       "      <td>Chandra alias Chinna and Yuktha are childhood ...</td>\n",
       "      <td>NaN</td>\n",
       "      <td>[Romance]</td>\n",
       "    </tr>\n",
       "    <tr>\n",
       "      <th>2418</th>\n",
       "      <td>267689</td>\n",
       "      <td>[53]</td>\n",
       "      <td>Billa Ranga</td>\n",
       "      <td>Billa Ranga is action thriller based movie in ...</td>\n",
       "      <td>/4k7oR6S8lZMNYuqBNseGp4ZZfZ9.jpg</td>\n",
       "      <td>[Thriller]</td>\n",
       "    </tr>\n",
       "    <tr>\n",
       "      <th>2419</th>\n",
       "      <td>267687</td>\n",
       "      <td>[18]</td>\n",
       "      <td>Subhalekha</td>\n",
       "      <td>Subhalekha is family oriented movie in which, ...</td>\n",
       "      <td>/5MnPodIYT68QY7DGYoQJWV33TcH.jpg</td>\n",
       "      <td>[Drama]</td>\n",
       "    </tr>\n",
       "  </tbody>\n",
       "</table>\n",
       "<p>2420 rows × 6 columns</p>\n",
       "</div>"
      ],
      "text/plain": [
       "          id         genre_ids                       title  \\\n",
       "0     579974          [28, 18]                         RRR   \n",
       "1     256040  [28, 12, 18, 14]     Bāhubali: The Beginning   \n",
       "2     690957      [28, 18, 53]   Pushpa: The Rise - Part 1   \n",
       "3     350312      [28, 12, 14]  Bāhubali 2: The Conclusion   \n",
       "4     901277          [80, 53]                 CSI Sanatan   \n",
       "...      ...               ...                         ...   \n",
       "2415  274754              [35]                    Andagadu   \n",
       "2416  272227                []                  Love Birds   \n",
       "2417  270720           [10749]        Pyar Mein Padipoyane   \n",
       "2418  267689              [53]                 Billa Ranga   \n",
       "2419  267687              [18]                  Subhalekha   \n",
       "\n",
       "                                               overview  \\\n",
       "0     A fictional history of two legendary revolutio...   \n",
       "1     The young Shivudu is left as a foundling in a ...   \n",
       "2     Pushpa Raj is a coolie who rises in the world ...   \n",
       "3     When Mahendra, the son of Bāhubali, learns abo...   \n",
       "4     When a buisness tycoon Vikram Chakravarthi get...   \n",
       "...                                                 ...   \n",
       "2415  Though he's successful in his career composing...   \n",
       "2416  Drama / Foreign - A love story about Arun and ...   \n",
       "2417  Chandra alias Chinna and Yuktha are childhood ...   \n",
       "2418  Billa Ranga is action thriller based movie in ...   \n",
       "2419  Subhalekha is family oriented movie in which, ...   \n",
       "\n",
       "                           poster_path                                genre  \n",
       "0     /nEufeZlyAOLqO2brrs0yeF1lgXO.jpg                      [Action, Drama]  \n",
       "1     /9BAjt8nSSms62uOVYn1t3C3dVto.jpg  [Action, Adventure, Drama, Fantasy]  \n",
       "2     /r1yAzVQNbCbPTbB3GZFour9Qr0t.jpg            [Action, Drama, Thriller]  \n",
       "3     /21sC2assImQIYCEDA84Qh9d1RsK.jpg         [Action, Adventure, Fantasy]  \n",
       "4     /yscCuJsNYDh2vHc6VrASnZcbaDw.jpg                    [Crime, Thriller]  \n",
       "...                                ...                                  ...  \n",
       "2415  /iR3pxOIigseQRfqCAmr4yKcLu7f.jpg                             [Comedy]  \n",
       "2416                               NaN                                   []  \n",
       "2417                               NaN                            [Romance]  \n",
       "2418  /4k7oR6S8lZMNYuqBNseGp4ZZfZ9.jpg                           [Thriller]  \n",
       "2419  /5MnPodIYT68QY7DGYoQJWV33TcH.jpg                              [Drama]  \n",
       "\n",
       "[2420 rows x 6 columns]"
      ]
     },
     "execution_count": 8,
     "metadata": {},
     "output_type": "execute_result"
    }
   ],
   "source": [
    "movie"
   ]
  },
  {
   "cell_type": "markdown",
   "id": "bc36141e",
   "metadata": {},
   "source": [
    "takig top 3 actors only from cast dataframe "
   ]
  },
  {
   "cell_type": "code",
   "execution_count": 9,
   "id": "5117351e",
   "metadata": {},
   "outputs": [],
   "source": [
    "actors=cast.groupby('id')['original_name'].apply(lambda x: x.head(3))"
   ]
  },
  {
   "cell_type": "code",
   "execution_count": 10,
   "id": "9ccdd284",
   "metadata": {
    "scrolled": true
   },
   "outputs": [],
   "source": [
    "actors=actors.reset_index()"
   ]
  },
  {
   "cell_type": "code",
   "execution_count": 11,
   "id": "ce47c6e1",
   "metadata": {
    "scrolled": true
   },
   "outputs": [
    {
     "data": {
      "text/plain": [
       "0"
      ]
     },
     "execution_count": 11,
     "metadata": {},
     "output_type": "execute_result"
    }
   ],
   "source": [
    "actors.duplicated().sum()"
   ]
  },
  {
   "cell_type": "markdown",
   "id": "a2740469",
   "metadata": {},
   "source": [
    "takig top 3 actors only from cast dataframe and converting actors into list"
   ]
  },
  {
   "cell_type": "code",
   "execution_count": 12,
   "id": "40bc0bad",
   "metadata": {},
   "outputs": [],
   "source": [
    "actors=cast.groupby('id')['original_name'].apply(lambda x: x.head(3).tolist())"
   ]
  },
  {
   "cell_type": "code",
   "execution_count": 13,
   "id": "7a57d3dc",
   "metadata": {},
   "outputs": [],
   "source": [
    "actors=actors.reset_index()"
   ]
  },
  {
   "cell_type": "code",
   "execution_count": 14,
   "id": "6ddf42d5",
   "metadata": {},
   "outputs": [],
   "source": [
    "movie=movie.merge(actors,on='id')"
   ]
  },
  {
   "cell_type": "markdown",
   "id": "4e398feb",
   "metadata": {},
   "source": [
    "creating new column called actore for readability and understaing"
   ]
  },
  {
   "cell_type": "code",
   "execution_count": 15,
   "id": "43d196fc",
   "metadata": {},
   "outputs": [],
   "source": [
    "movie['actors']= movie['original_name']"
   ]
  },
  {
   "cell_type": "code",
   "execution_count": 16,
   "id": "4d3611d9",
   "metadata": {},
   "outputs": [
    {
     "data": {
      "text/html": [
       "<div>\n",
       "<style scoped>\n",
       "    .dataframe tbody tr th:only-of-type {\n",
       "        vertical-align: middle;\n",
       "    }\n",
       "\n",
       "    .dataframe tbody tr th {\n",
       "        vertical-align: top;\n",
       "    }\n",
       "\n",
       "    .dataframe thead th {\n",
       "        text-align: right;\n",
       "    }\n",
       "</style>\n",
       "<table border=\"1\" class=\"dataframe\">\n",
       "  <thead>\n",
       "    <tr style=\"text-align: right;\">\n",
       "      <th></th>\n",
       "      <th>id</th>\n",
       "      <th>genre_ids</th>\n",
       "      <th>title</th>\n",
       "      <th>overview</th>\n",
       "      <th>poster_path</th>\n",
       "      <th>genre</th>\n",
       "      <th>original_name</th>\n",
       "      <th>actors</th>\n",
       "    </tr>\n",
       "  </thead>\n",
       "  <tbody>\n",
       "    <tr>\n",
       "      <th>0</th>\n",
       "      <td>579974</td>\n",
       "      <td>[28, 18]</td>\n",
       "      <td>RRR</td>\n",
       "      <td>A fictional history of two legendary revolutio...</td>\n",
       "      <td>/nEufeZlyAOLqO2brrs0yeF1lgXO.jpg</td>\n",
       "      <td>[Action, Drama]</td>\n",
       "      <td>[N. T. Rama Rao Jr., Ram Charan, Ajay Devgn]</td>\n",
       "      <td>[N. T. Rama Rao Jr., Ram Charan, Ajay Devgn]</td>\n",
       "    </tr>\n",
       "    <tr>\n",
       "      <th>1</th>\n",
       "      <td>256040</td>\n",
       "      <td>[28, 12, 18, 14]</td>\n",
       "      <td>Bāhubali: The Beginning</td>\n",
       "      <td>The young Shivudu is left as a foundling in a ...</td>\n",
       "      <td>/9BAjt8nSSms62uOVYn1t3C3dVto.jpg</td>\n",
       "      <td>[Action, Adventure, Drama, Fantasy]</td>\n",
       "      <td>[Prabhas, Rana Daggubati, Tamannaah Bhatia]</td>\n",
       "      <td>[Prabhas, Rana Daggubati, Tamannaah Bhatia]</td>\n",
       "    </tr>\n",
       "    <tr>\n",
       "      <th>2</th>\n",
       "      <td>690957</td>\n",
       "      <td>[28, 18, 53]</td>\n",
       "      <td>Pushpa: The Rise - Part 1</td>\n",
       "      <td>Pushpa Raj is a coolie who rises in the world ...</td>\n",
       "      <td>/r1yAzVQNbCbPTbB3GZFour9Qr0t.jpg</td>\n",
       "      <td>[Action, Drama, Thriller]</td>\n",
       "      <td>[Allu Arjun, Fahadh Faasil, Rashmika Mandanna]</td>\n",
       "      <td>[Allu Arjun, Fahadh Faasil, Rashmika Mandanna]</td>\n",
       "    </tr>\n",
       "    <tr>\n",
       "      <th>3</th>\n",
       "      <td>350312</td>\n",
       "      <td>[28, 12, 14]</td>\n",
       "      <td>Bāhubali 2: The Conclusion</td>\n",
       "      <td>When Mahendra, the son of Bāhubali, learns abo...</td>\n",
       "      <td>/21sC2assImQIYCEDA84Qh9d1RsK.jpg</td>\n",
       "      <td>[Action, Adventure, Fantasy]</td>\n",
       "      <td>[Prabhas, Rana Daggubati, Sathyaraj]</td>\n",
       "      <td>[Prabhas, Rana Daggubati, Sathyaraj]</td>\n",
       "    </tr>\n",
       "    <tr>\n",
       "      <th>4</th>\n",
       "      <td>901277</td>\n",
       "      <td>[80, 53]</td>\n",
       "      <td>CSI Sanatan</td>\n",
       "      <td>When a buisness tycoon Vikram Chakravarthi get...</td>\n",
       "      <td>/yscCuJsNYDh2vHc6VrASnZcbaDw.jpg</td>\n",
       "      <td>[Crime, Thriller]</td>\n",
       "      <td>[Aadi Saikumar, Misha Narang, Ali Reza]</td>\n",
       "      <td>[Aadi Saikumar, Misha Narang, Ali Reza]</td>\n",
       "    </tr>\n",
       "    <tr>\n",
       "      <th>...</th>\n",
       "      <td>...</td>\n",
       "      <td>...</td>\n",
       "      <td>...</td>\n",
       "      <td>...</td>\n",
       "      <td>...</td>\n",
       "      <td>...</td>\n",
       "      <td>...</td>\n",
       "      <td>...</td>\n",
       "    </tr>\n",
       "    <tr>\n",
       "      <th>2299</th>\n",
       "      <td>278035</td>\n",
       "      <td>[18, 10751]</td>\n",
       "      <td>Swati Kiranam</td>\n",
       "      <td>An egotistical music teacher envious of the ex...</td>\n",
       "      <td>/nMtsgVTfaCdVQZOXx1Yh8Himj5M.jpg</td>\n",
       "      <td>[Drama, Family]</td>\n",
       "      <td>[Mammootty, Radhika Sarathkumar, Master Manjun...</td>\n",
       "      <td>[Mammootty, Radhika Sarathkumar, Master Manjun...</td>\n",
       "    </tr>\n",
       "    <tr>\n",
       "      <th>2300</th>\n",
       "      <td>274754</td>\n",
       "      <td>[35]</td>\n",
       "      <td>Andagadu</td>\n",
       "      <td>Though he's successful in his career composing...</td>\n",
       "      <td>/iR3pxOIigseQRfqCAmr4yKcLu7f.jpg</td>\n",
       "      <td>[Comedy]</td>\n",
       "      <td>[Rajendra Prasad, Damini, Chandramohan]</td>\n",
       "      <td>[Rajendra Prasad, Damini, Chandramohan]</td>\n",
       "    </tr>\n",
       "    <tr>\n",
       "      <th>2301</th>\n",
       "      <td>270720</td>\n",
       "      <td>[10749]</td>\n",
       "      <td>Pyar Mein Padipoyane</td>\n",
       "      <td>Chandra alias Chinna and Yuktha are childhood ...</td>\n",
       "      <td>NaN</td>\n",
       "      <td>[Romance]</td>\n",
       "      <td>[Aadi Saikumar, Shanvi Shrivastava]</td>\n",
       "      <td>[Aadi Saikumar, Shanvi Shrivastava]</td>\n",
       "    </tr>\n",
       "    <tr>\n",
       "      <th>2302</th>\n",
       "      <td>267689</td>\n",
       "      <td>[53]</td>\n",
       "      <td>Billa Ranga</td>\n",
       "      <td>Billa Ranga is action thriller based movie in ...</td>\n",
       "      <td>/4k7oR6S8lZMNYuqBNseGp4ZZfZ9.jpg</td>\n",
       "      <td>[Thriller]</td>\n",
       "      <td>[Chiranjeevi, Mohan Babu, Swapna]</td>\n",
       "      <td>[Chiranjeevi, Mohan Babu, Swapna]</td>\n",
       "    </tr>\n",
       "    <tr>\n",
       "      <th>2303</th>\n",
       "      <td>267687</td>\n",
       "      <td>[18]</td>\n",
       "      <td>Subhalekha</td>\n",
       "      <td>Subhalekha is family oriented movie in which, ...</td>\n",
       "      <td>/5MnPodIYT68QY7DGYoQJWV33TcH.jpg</td>\n",
       "      <td>[Drama]</td>\n",
       "      <td>[Chiranjeevi, Sumalatha, Subhalekha Sudhakar]</td>\n",
       "      <td>[Chiranjeevi, Sumalatha, Subhalekha Sudhakar]</td>\n",
       "    </tr>\n",
       "  </tbody>\n",
       "</table>\n",
       "<p>2304 rows × 8 columns</p>\n",
       "</div>"
      ],
      "text/plain": [
       "          id         genre_ids                       title  \\\n",
       "0     579974          [28, 18]                         RRR   \n",
       "1     256040  [28, 12, 18, 14]     Bāhubali: The Beginning   \n",
       "2     690957      [28, 18, 53]   Pushpa: The Rise - Part 1   \n",
       "3     350312      [28, 12, 14]  Bāhubali 2: The Conclusion   \n",
       "4     901277          [80, 53]                 CSI Sanatan   \n",
       "...      ...               ...                         ...   \n",
       "2299  278035       [18, 10751]               Swati Kiranam   \n",
       "2300  274754              [35]                    Andagadu   \n",
       "2301  270720           [10749]        Pyar Mein Padipoyane   \n",
       "2302  267689              [53]                 Billa Ranga   \n",
       "2303  267687              [18]                  Subhalekha   \n",
       "\n",
       "                                               overview  \\\n",
       "0     A fictional history of two legendary revolutio...   \n",
       "1     The young Shivudu is left as a foundling in a ...   \n",
       "2     Pushpa Raj is a coolie who rises in the world ...   \n",
       "3     When Mahendra, the son of Bāhubali, learns abo...   \n",
       "4     When a buisness tycoon Vikram Chakravarthi get...   \n",
       "...                                                 ...   \n",
       "2299  An egotistical music teacher envious of the ex...   \n",
       "2300  Though he's successful in his career composing...   \n",
       "2301  Chandra alias Chinna and Yuktha are childhood ...   \n",
       "2302  Billa Ranga is action thriller based movie in ...   \n",
       "2303  Subhalekha is family oriented movie in which, ...   \n",
       "\n",
       "                           poster_path                                genre  \\\n",
       "0     /nEufeZlyAOLqO2brrs0yeF1lgXO.jpg                      [Action, Drama]   \n",
       "1     /9BAjt8nSSms62uOVYn1t3C3dVto.jpg  [Action, Adventure, Drama, Fantasy]   \n",
       "2     /r1yAzVQNbCbPTbB3GZFour9Qr0t.jpg            [Action, Drama, Thriller]   \n",
       "3     /21sC2assImQIYCEDA84Qh9d1RsK.jpg         [Action, Adventure, Fantasy]   \n",
       "4     /yscCuJsNYDh2vHc6VrASnZcbaDw.jpg                    [Crime, Thriller]   \n",
       "...                                ...                                  ...   \n",
       "2299  /nMtsgVTfaCdVQZOXx1Yh8Himj5M.jpg                      [Drama, Family]   \n",
       "2300  /iR3pxOIigseQRfqCAmr4yKcLu7f.jpg                             [Comedy]   \n",
       "2301                               NaN                            [Romance]   \n",
       "2302  /4k7oR6S8lZMNYuqBNseGp4ZZfZ9.jpg                           [Thriller]   \n",
       "2303  /5MnPodIYT68QY7DGYoQJWV33TcH.jpg                              [Drama]   \n",
       "\n",
       "                                          original_name  \\\n",
       "0          [N. T. Rama Rao Jr., Ram Charan, Ajay Devgn]   \n",
       "1           [Prabhas, Rana Daggubati, Tamannaah Bhatia]   \n",
       "2        [Allu Arjun, Fahadh Faasil, Rashmika Mandanna]   \n",
       "3                  [Prabhas, Rana Daggubati, Sathyaraj]   \n",
       "4               [Aadi Saikumar, Misha Narang, Ali Reza]   \n",
       "...                                                 ...   \n",
       "2299  [Mammootty, Radhika Sarathkumar, Master Manjun...   \n",
       "2300            [Rajendra Prasad, Damini, Chandramohan]   \n",
       "2301                [Aadi Saikumar, Shanvi Shrivastava]   \n",
       "2302                  [Chiranjeevi, Mohan Babu, Swapna]   \n",
       "2303      [Chiranjeevi, Sumalatha, Subhalekha Sudhakar]   \n",
       "\n",
       "                                                 actors  \n",
       "0          [N. T. Rama Rao Jr., Ram Charan, Ajay Devgn]  \n",
       "1           [Prabhas, Rana Daggubati, Tamannaah Bhatia]  \n",
       "2        [Allu Arjun, Fahadh Faasil, Rashmika Mandanna]  \n",
       "3                  [Prabhas, Rana Daggubati, Sathyaraj]  \n",
       "4               [Aadi Saikumar, Misha Narang, Ali Reza]  \n",
       "...                                                 ...  \n",
       "2299  [Mammootty, Radhika Sarathkumar, Master Manjun...  \n",
       "2300            [Rajendra Prasad, Damini, Chandramohan]  \n",
       "2301                [Aadi Saikumar, Shanvi Shrivastava]  \n",
       "2302                  [Chiranjeevi, Mohan Babu, Swapna]  \n",
       "2303      [Chiranjeevi, Sumalatha, Subhalekha Sudhakar]  \n",
       "\n",
       "[2304 rows x 8 columns]"
      ]
     },
     "execution_count": 16,
     "metadata": {},
     "output_type": "execute_result"
    }
   ],
   "source": [
    "movie"
   ]
  },
  {
   "cell_type": "markdown",
   "id": "ac196d2e",
   "metadata": {},
   "source": [
    "ectracting directos for each movie in cast dataframe by masking dataframe"
   ]
  },
  {
   "cell_type": "code",
   "execution_count": 17,
   "id": "94068307",
   "metadata": {},
   "outputs": [],
   "source": [
    "directors=cast[cast['known_for_department']=='Directing']"
   ]
  },
  {
   "cell_type": "code",
   "execution_count": 18,
   "id": "c6058278",
   "metadata": {
    "scrolled": true
   },
   "outputs": [
    {
     "data": {
      "text/html": [
       "<div>\n",
       "<style scoped>\n",
       "    .dataframe tbody tr th:only-of-type {\n",
       "        vertical-align: middle;\n",
       "    }\n",
       "\n",
       "    .dataframe tbody tr th {\n",
       "        vertical-align: top;\n",
       "    }\n",
       "\n",
       "    .dataframe thead th {\n",
       "        text-align: right;\n",
       "    }\n",
       "</style>\n",
       "<table border=\"1\" class=\"dataframe\">\n",
       "  <thead>\n",
       "    <tr style=\"text-align: right;\">\n",
       "      <th></th>\n",
       "      <th>adult</th>\n",
       "      <th>gender</th>\n",
       "      <th>id</th>\n",
       "      <th>known_for_department</th>\n",
       "      <th>name</th>\n",
       "      <th>original_name</th>\n",
       "      <th>popularity</th>\n",
       "      <th>profile_path</th>\n",
       "      <th>cast_id</th>\n",
       "      <th>character</th>\n",
       "      <th>credit_id</th>\n",
       "      <th>order</th>\n",
       "    </tr>\n",
       "  </thead>\n",
       "  <tbody>\n",
       "    <tr>\n",
       "      <th>22</th>\n",
       "      <td>False</td>\n",
       "      <td>2.0</td>\n",
       "      <td>579974</td>\n",
       "      <td>Directing</td>\n",
       "      <td>S. S. Rajamouli</td>\n",
       "      <td>S. S. Rajamouli</td>\n",
       "      <td>7.548</td>\n",
       "      <td>/g7jXGAVT8T5vq81fO5JWDleDc75.jpg</td>\n",
       "      <td>74.0</td>\n",
       "      <td>Self</td>\n",
       "      <td>625c2adf3dd12600681b0327</td>\n",
       "      <td>22.0</td>\n",
       "    </tr>\n",
       "    <tr>\n",
       "      <th>45</th>\n",
       "      <td>False</td>\n",
       "      <td>2.0</td>\n",
       "      <td>256040</td>\n",
       "      <td>Directing</td>\n",
       "      <td>S. S. Rajamouli</td>\n",
       "      <td>S. S. Rajamouli</td>\n",
       "      <td>7.548</td>\n",
       "      <td>/g7jXGAVT8T5vq81fO5JWDleDc75.jpg</td>\n",
       "      <td>15.0</td>\n",
       "      <td>Spirit Seller (uncredited)</td>\n",
       "      <td>55a1a089c3a3681cec001ce6</td>\n",
       "      <td>14.0</td>\n",
       "    </tr>\n",
       "  </tbody>\n",
       "</table>\n",
       "</div>"
      ],
      "text/plain": [
       "    adult  gender      id known_for_department             name  \\\n",
       "22  False     2.0  579974            Directing  S. S. Rajamouli   \n",
       "45  False     2.0  256040            Directing  S. S. Rajamouli   \n",
       "\n",
       "      original_name  popularity                      profile_path  cast_id  \\\n",
       "22  S. S. Rajamouli       7.548  /g7jXGAVT8T5vq81fO5JWDleDc75.jpg     74.0   \n",
       "45  S. S. Rajamouli       7.548  /g7jXGAVT8T5vq81fO5JWDleDc75.jpg     15.0   \n",
       "\n",
       "                     character                 credit_id  order  \n",
       "22                        Self  625c2adf3dd12600681b0327   22.0  \n",
       "45  Spirit Seller (uncredited)  55a1a089c3a3681cec001ce6   14.0  "
      ]
     },
     "execution_count": 18,
     "metadata": {},
     "output_type": "execute_result"
    }
   ],
   "source": [
    "directors.head(2)"
   ]
  },
  {
   "cell_type": "code",
   "execution_count": 19,
   "id": "d9e8219a",
   "metadata": {
    "scrolled": true
   },
   "outputs": [
    {
     "data": {
      "text/plain": [
       "(167, 12)"
      ]
     },
     "execution_count": 19,
     "metadata": {},
     "output_type": "execute_result"
    }
   ],
   "source": [
    "directors.shape"
   ]
  },
  {
   "cell_type": "markdown",
   "id": "94b8396c",
   "metadata": {},
   "source": [
    "since director dataframe has only 167 rows.if i merge with movie dataframe its shape will reduce as of directors\n",
    "so not merging ditrectors with movie "
   ]
  },
  {
   "cell_type": "code",
   "execution_count": 20,
   "id": "dfd77f2a",
   "metadata": {},
   "outputs": [],
   "source": [
    "#movie.merge(directors,on ='id')"
   ]
  },
  {
   "cell_type": "code",
   "execution_count": 21,
   "id": "afcbb74f",
   "metadata": {},
   "outputs": [],
   "source": [
    "#movie['director']=movie['original_name_y']"
   ]
  },
  {
   "cell_type": "code",
   "execution_count": 22,
   "id": "199aa40f",
   "metadata": {},
   "outputs": [
    {
     "data": {
      "text/html": [
       "<div>\n",
       "<style scoped>\n",
       "    .dataframe tbody tr th:only-of-type {\n",
       "        vertical-align: middle;\n",
       "    }\n",
       "\n",
       "    .dataframe tbody tr th {\n",
       "        vertical-align: top;\n",
       "    }\n",
       "\n",
       "    .dataframe thead th {\n",
       "        text-align: right;\n",
       "    }\n",
       "</style>\n",
       "<table border=\"1\" class=\"dataframe\">\n",
       "  <thead>\n",
       "    <tr style=\"text-align: right;\">\n",
       "      <th></th>\n",
       "      <th>id</th>\n",
       "      <th>genre_ids</th>\n",
       "      <th>title</th>\n",
       "      <th>overview</th>\n",
       "      <th>poster_path</th>\n",
       "      <th>genre</th>\n",
       "      <th>original_name</th>\n",
       "      <th>actors</th>\n",
       "    </tr>\n",
       "  </thead>\n",
       "  <tbody>\n",
       "    <tr>\n",
       "      <th>0</th>\n",
       "      <td>579974</td>\n",
       "      <td>[28, 18]</td>\n",
       "      <td>RRR</td>\n",
       "      <td>A fictional history of two legendary revolutio...</td>\n",
       "      <td>/nEufeZlyAOLqO2brrs0yeF1lgXO.jpg</td>\n",
       "      <td>[Action, Drama]</td>\n",
       "      <td>[N. T. Rama Rao Jr., Ram Charan, Ajay Devgn]</td>\n",
       "      <td>[N. T. Rama Rao Jr., Ram Charan, Ajay Devgn]</td>\n",
       "    </tr>\n",
       "    <tr>\n",
       "      <th>1</th>\n",
       "      <td>256040</td>\n",
       "      <td>[28, 12, 18, 14]</td>\n",
       "      <td>Bāhubali: The Beginning</td>\n",
       "      <td>The young Shivudu is left as a foundling in a ...</td>\n",
       "      <td>/9BAjt8nSSms62uOVYn1t3C3dVto.jpg</td>\n",
       "      <td>[Action, Adventure, Drama, Fantasy]</td>\n",
       "      <td>[Prabhas, Rana Daggubati, Tamannaah Bhatia]</td>\n",
       "      <td>[Prabhas, Rana Daggubati, Tamannaah Bhatia]</td>\n",
       "    </tr>\n",
       "    <tr>\n",
       "      <th>2</th>\n",
       "      <td>690957</td>\n",
       "      <td>[28, 18, 53]</td>\n",
       "      <td>Pushpa: The Rise - Part 1</td>\n",
       "      <td>Pushpa Raj is a coolie who rises in the world ...</td>\n",
       "      <td>/r1yAzVQNbCbPTbB3GZFour9Qr0t.jpg</td>\n",
       "      <td>[Action, Drama, Thriller]</td>\n",
       "      <td>[Allu Arjun, Fahadh Faasil, Rashmika Mandanna]</td>\n",
       "      <td>[Allu Arjun, Fahadh Faasil, Rashmika Mandanna]</td>\n",
       "    </tr>\n",
       "    <tr>\n",
       "      <th>3</th>\n",
       "      <td>350312</td>\n",
       "      <td>[28, 12, 14]</td>\n",
       "      <td>Bāhubali 2: The Conclusion</td>\n",
       "      <td>When Mahendra, the son of Bāhubali, learns abo...</td>\n",
       "      <td>/21sC2assImQIYCEDA84Qh9d1RsK.jpg</td>\n",
       "      <td>[Action, Adventure, Fantasy]</td>\n",
       "      <td>[Prabhas, Rana Daggubati, Sathyaraj]</td>\n",
       "      <td>[Prabhas, Rana Daggubati, Sathyaraj]</td>\n",
       "    </tr>\n",
       "    <tr>\n",
       "      <th>4</th>\n",
       "      <td>901277</td>\n",
       "      <td>[80, 53]</td>\n",
       "      <td>CSI Sanatan</td>\n",
       "      <td>When a buisness tycoon Vikram Chakravarthi get...</td>\n",
       "      <td>/yscCuJsNYDh2vHc6VrASnZcbaDw.jpg</td>\n",
       "      <td>[Crime, Thriller]</td>\n",
       "      <td>[Aadi Saikumar, Misha Narang, Ali Reza]</td>\n",
       "      <td>[Aadi Saikumar, Misha Narang, Ali Reza]</td>\n",
       "    </tr>\n",
       "    <tr>\n",
       "      <th>...</th>\n",
       "      <td>...</td>\n",
       "      <td>...</td>\n",
       "      <td>...</td>\n",
       "      <td>...</td>\n",
       "      <td>...</td>\n",
       "      <td>...</td>\n",
       "      <td>...</td>\n",
       "      <td>...</td>\n",
       "    </tr>\n",
       "    <tr>\n",
       "      <th>2299</th>\n",
       "      <td>278035</td>\n",
       "      <td>[18, 10751]</td>\n",
       "      <td>Swati Kiranam</td>\n",
       "      <td>An egotistical music teacher envious of the ex...</td>\n",
       "      <td>/nMtsgVTfaCdVQZOXx1Yh8Himj5M.jpg</td>\n",
       "      <td>[Drama, Family]</td>\n",
       "      <td>[Mammootty, Radhika Sarathkumar, Master Manjun...</td>\n",
       "      <td>[Mammootty, Radhika Sarathkumar, Master Manjun...</td>\n",
       "    </tr>\n",
       "    <tr>\n",
       "      <th>2300</th>\n",
       "      <td>274754</td>\n",
       "      <td>[35]</td>\n",
       "      <td>Andagadu</td>\n",
       "      <td>Though he's successful in his career composing...</td>\n",
       "      <td>/iR3pxOIigseQRfqCAmr4yKcLu7f.jpg</td>\n",
       "      <td>[Comedy]</td>\n",
       "      <td>[Rajendra Prasad, Damini, Chandramohan]</td>\n",
       "      <td>[Rajendra Prasad, Damini, Chandramohan]</td>\n",
       "    </tr>\n",
       "    <tr>\n",
       "      <th>2301</th>\n",
       "      <td>270720</td>\n",
       "      <td>[10749]</td>\n",
       "      <td>Pyar Mein Padipoyane</td>\n",
       "      <td>Chandra alias Chinna and Yuktha are childhood ...</td>\n",
       "      <td>NaN</td>\n",
       "      <td>[Romance]</td>\n",
       "      <td>[Aadi Saikumar, Shanvi Shrivastava]</td>\n",
       "      <td>[Aadi Saikumar, Shanvi Shrivastava]</td>\n",
       "    </tr>\n",
       "    <tr>\n",
       "      <th>2302</th>\n",
       "      <td>267689</td>\n",
       "      <td>[53]</td>\n",
       "      <td>Billa Ranga</td>\n",
       "      <td>Billa Ranga is action thriller based movie in ...</td>\n",
       "      <td>/4k7oR6S8lZMNYuqBNseGp4ZZfZ9.jpg</td>\n",
       "      <td>[Thriller]</td>\n",
       "      <td>[Chiranjeevi, Mohan Babu, Swapna]</td>\n",
       "      <td>[Chiranjeevi, Mohan Babu, Swapna]</td>\n",
       "    </tr>\n",
       "    <tr>\n",
       "      <th>2303</th>\n",
       "      <td>267687</td>\n",
       "      <td>[18]</td>\n",
       "      <td>Subhalekha</td>\n",
       "      <td>Subhalekha is family oriented movie in which, ...</td>\n",
       "      <td>/5MnPodIYT68QY7DGYoQJWV33TcH.jpg</td>\n",
       "      <td>[Drama]</td>\n",
       "      <td>[Chiranjeevi, Sumalatha, Subhalekha Sudhakar]</td>\n",
       "      <td>[Chiranjeevi, Sumalatha, Subhalekha Sudhakar]</td>\n",
       "    </tr>\n",
       "  </tbody>\n",
       "</table>\n",
       "<p>2304 rows × 8 columns</p>\n",
       "</div>"
      ],
      "text/plain": [
       "          id         genre_ids                       title  \\\n",
       "0     579974          [28, 18]                         RRR   \n",
       "1     256040  [28, 12, 18, 14]     Bāhubali: The Beginning   \n",
       "2     690957      [28, 18, 53]   Pushpa: The Rise - Part 1   \n",
       "3     350312      [28, 12, 14]  Bāhubali 2: The Conclusion   \n",
       "4     901277          [80, 53]                 CSI Sanatan   \n",
       "...      ...               ...                         ...   \n",
       "2299  278035       [18, 10751]               Swati Kiranam   \n",
       "2300  274754              [35]                    Andagadu   \n",
       "2301  270720           [10749]        Pyar Mein Padipoyane   \n",
       "2302  267689              [53]                 Billa Ranga   \n",
       "2303  267687              [18]                  Subhalekha   \n",
       "\n",
       "                                               overview  \\\n",
       "0     A fictional history of two legendary revolutio...   \n",
       "1     The young Shivudu is left as a foundling in a ...   \n",
       "2     Pushpa Raj is a coolie who rises in the world ...   \n",
       "3     When Mahendra, the son of Bāhubali, learns abo...   \n",
       "4     When a buisness tycoon Vikram Chakravarthi get...   \n",
       "...                                                 ...   \n",
       "2299  An egotistical music teacher envious of the ex...   \n",
       "2300  Though he's successful in his career composing...   \n",
       "2301  Chandra alias Chinna and Yuktha are childhood ...   \n",
       "2302  Billa Ranga is action thriller based movie in ...   \n",
       "2303  Subhalekha is family oriented movie in which, ...   \n",
       "\n",
       "                           poster_path                                genre  \\\n",
       "0     /nEufeZlyAOLqO2brrs0yeF1lgXO.jpg                      [Action, Drama]   \n",
       "1     /9BAjt8nSSms62uOVYn1t3C3dVto.jpg  [Action, Adventure, Drama, Fantasy]   \n",
       "2     /r1yAzVQNbCbPTbB3GZFour9Qr0t.jpg            [Action, Drama, Thriller]   \n",
       "3     /21sC2assImQIYCEDA84Qh9d1RsK.jpg         [Action, Adventure, Fantasy]   \n",
       "4     /yscCuJsNYDh2vHc6VrASnZcbaDw.jpg                    [Crime, Thriller]   \n",
       "...                                ...                                  ...   \n",
       "2299  /nMtsgVTfaCdVQZOXx1Yh8Himj5M.jpg                      [Drama, Family]   \n",
       "2300  /iR3pxOIigseQRfqCAmr4yKcLu7f.jpg                             [Comedy]   \n",
       "2301                               NaN                            [Romance]   \n",
       "2302  /4k7oR6S8lZMNYuqBNseGp4ZZfZ9.jpg                           [Thriller]   \n",
       "2303  /5MnPodIYT68QY7DGYoQJWV33TcH.jpg                              [Drama]   \n",
       "\n",
       "                                          original_name  \\\n",
       "0          [N. T. Rama Rao Jr., Ram Charan, Ajay Devgn]   \n",
       "1           [Prabhas, Rana Daggubati, Tamannaah Bhatia]   \n",
       "2        [Allu Arjun, Fahadh Faasil, Rashmika Mandanna]   \n",
       "3                  [Prabhas, Rana Daggubati, Sathyaraj]   \n",
       "4               [Aadi Saikumar, Misha Narang, Ali Reza]   \n",
       "...                                                 ...   \n",
       "2299  [Mammootty, Radhika Sarathkumar, Master Manjun...   \n",
       "2300            [Rajendra Prasad, Damini, Chandramohan]   \n",
       "2301                [Aadi Saikumar, Shanvi Shrivastava]   \n",
       "2302                  [Chiranjeevi, Mohan Babu, Swapna]   \n",
       "2303      [Chiranjeevi, Sumalatha, Subhalekha Sudhakar]   \n",
       "\n",
       "                                                 actors  \n",
       "0          [N. T. Rama Rao Jr., Ram Charan, Ajay Devgn]  \n",
       "1           [Prabhas, Rana Daggubati, Tamannaah Bhatia]  \n",
       "2        [Allu Arjun, Fahadh Faasil, Rashmika Mandanna]  \n",
       "3                  [Prabhas, Rana Daggubati, Sathyaraj]  \n",
       "4               [Aadi Saikumar, Misha Narang, Ali Reza]  \n",
       "...                                                 ...  \n",
       "2299  [Mammootty, Radhika Sarathkumar, Master Manjun...  \n",
       "2300            [Rajendra Prasad, Damini, Chandramohan]  \n",
       "2301                [Aadi Saikumar, Shanvi Shrivastava]  \n",
       "2302                  [Chiranjeevi, Mohan Babu, Swapna]  \n",
       "2303      [Chiranjeevi, Sumalatha, Subhalekha Sudhakar]  \n",
       "\n",
       "[2304 rows x 8 columns]"
      ]
     },
     "execution_count": 22,
     "metadata": {},
     "output_type": "execute_result"
    }
   ],
   "source": [
    "movie"
   ]
  },
  {
   "cell_type": "markdown",
   "id": "cd225165",
   "metadata": {},
   "source": [
    "selecting required columns for web application buiding "
   ]
  },
  {
   "cell_type": "code",
   "execution_count": 23,
   "id": "49e7482d",
   "metadata": {},
   "outputs": [],
   "source": [
    "movies=pd.DataFrame(movie[['id', 'title','genre', 'overview',  'actors','poster_path']])"
   ]
  },
  {
   "cell_type": "code",
   "execution_count": 24,
   "id": "f37190a0",
   "metadata": {},
   "outputs": [
    {
     "data": {
      "text/html": [
       "<div>\n",
       "<style scoped>\n",
       "    .dataframe tbody tr th:only-of-type {\n",
       "        vertical-align: middle;\n",
       "    }\n",
       "\n",
       "    .dataframe tbody tr th {\n",
       "        vertical-align: top;\n",
       "    }\n",
       "\n",
       "    .dataframe thead th {\n",
       "        text-align: right;\n",
       "    }\n",
       "</style>\n",
       "<table border=\"1\" class=\"dataframe\">\n",
       "  <thead>\n",
       "    <tr style=\"text-align: right;\">\n",
       "      <th></th>\n",
       "      <th>id</th>\n",
       "      <th>title</th>\n",
       "      <th>genre</th>\n",
       "      <th>overview</th>\n",
       "      <th>actors</th>\n",
       "      <th>poster_path</th>\n",
       "    </tr>\n",
       "  </thead>\n",
       "  <tbody>\n",
       "    <tr>\n",
       "      <th>0</th>\n",
       "      <td>579974</td>\n",
       "      <td>RRR</td>\n",
       "      <td>[Action, Drama]</td>\n",
       "      <td>A fictional history of two legendary revolutio...</td>\n",
       "      <td>[N. T. Rama Rao Jr., Ram Charan, Ajay Devgn]</td>\n",
       "      <td>/nEufeZlyAOLqO2brrs0yeF1lgXO.jpg</td>\n",
       "    </tr>\n",
       "    <tr>\n",
       "      <th>1</th>\n",
       "      <td>256040</td>\n",
       "      <td>Bāhubali: The Beginning</td>\n",
       "      <td>[Action, Adventure, Drama, Fantasy]</td>\n",
       "      <td>The young Shivudu is left as a foundling in a ...</td>\n",
       "      <td>[Prabhas, Rana Daggubati, Tamannaah Bhatia]</td>\n",
       "      <td>/9BAjt8nSSms62uOVYn1t3C3dVto.jpg</td>\n",
       "    </tr>\n",
       "  </tbody>\n",
       "</table>\n",
       "</div>"
      ],
      "text/plain": [
       "       id                    title                                genre  \\\n",
       "0  579974                      RRR                      [Action, Drama]   \n",
       "1  256040  Bāhubali: The Beginning  [Action, Adventure, Drama, Fantasy]   \n",
       "\n",
       "                                            overview  \\\n",
       "0  A fictional history of two legendary revolutio...   \n",
       "1  The young Shivudu is left as a foundling in a ...   \n",
       "\n",
       "                                         actors  \\\n",
       "0  [N. T. Rama Rao Jr., Ram Charan, Ajay Devgn]   \n",
       "1   [Prabhas, Rana Daggubati, Tamannaah Bhatia]   \n",
       "\n",
       "                        poster_path  \n",
       "0  /nEufeZlyAOLqO2brrs0yeF1lgXO.jpg  \n",
       "1  /9BAjt8nSSms62uOVYn1t3C3dVto.jpg  "
      ]
     },
     "execution_count": 24,
     "metadata": {},
     "output_type": "execute_result"
    }
   ],
   "source": [
    "movies.head(2)"
   ]
  },
  {
   "cell_type": "code",
   "execution_count": 25,
   "id": "e0a77c75",
   "metadata": {},
   "outputs": [
    {
     "name": "stdout",
     "output_type": "stream",
     "text": [
      "<class 'pandas.core.frame.DataFrame'>\n",
      "Int64Index: 2304 entries, 0 to 2303\n",
      "Data columns (total 6 columns):\n",
      " #   Column       Non-Null Count  Dtype \n",
      "---  ------       --------------  ----- \n",
      " 0   id           2304 non-null   int64 \n",
      " 1   title        2304 non-null   object\n",
      " 2   genre        2304 non-null   object\n",
      " 3   overview     2089 non-null   object\n",
      " 4   actors       2304 non-null   object\n",
      " 5   poster_path  1808 non-null   object\n",
      "dtypes: int64(1), object(5)\n",
      "memory usage: 126.0+ KB\n"
     ]
    }
   ],
   "source": [
    "movies.info()"
   ]
  },
  {
   "cell_type": "code",
   "execution_count": 26,
   "id": "81757e7a",
   "metadata": {},
   "outputs": [
    {
     "data": {
      "text/plain": [
       "id               0\n",
       "title            0\n",
       "genre            0\n",
       "overview       215\n",
       "actors           0\n",
       "poster_path    496\n",
       "dtype: int64"
      ]
     },
     "execution_count": 26,
     "metadata": {},
     "output_type": "execute_result"
    }
   ],
   "source": [
    "movies.isnull().sum()\n"
   ]
  },
  {
   "cell_type": "code",
   "execution_count": 27,
   "id": "692eacc6",
   "metadata": {
    "scrolled": true
   },
   "outputs": [
    {
     "data": {
      "text/html": [
       "<div>\n",
       "<style scoped>\n",
       "    .dataframe tbody tr th:only-of-type {\n",
       "        vertical-align: middle;\n",
       "    }\n",
       "\n",
       "    .dataframe tbody tr th {\n",
       "        vertical-align: top;\n",
       "    }\n",
       "\n",
       "    .dataframe thead th {\n",
       "        text-align: right;\n",
       "    }\n",
       "</style>\n",
       "<table border=\"1\" class=\"dataframe\">\n",
       "  <thead>\n",
       "    <tr style=\"text-align: right;\">\n",
       "      <th></th>\n",
       "      <th>id</th>\n",
       "      <th>title</th>\n",
       "      <th>genre</th>\n",
       "      <th>overview</th>\n",
       "      <th>actors</th>\n",
       "      <th>poster_path</th>\n",
       "    </tr>\n",
       "  </thead>\n",
       "  <tbody>\n",
       "    <tr>\n",
       "      <th>20</th>\n",
       "      <td>1114702</td>\n",
       "      <td>Vimanam</td>\n",
       "      <td>[Drama, Family]</td>\n",
       "      <td>NaN</td>\n",
       "      <td>[Samuthirakani, Anasuya Bharadwaj, Meera Jasmine]</td>\n",
       "      <td>/d1FQfGMDGRiPqqG5MTC7DZi4joY.jpg</td>\n",
       "    </tr>\n",
       "    <tr>\n",
       "      <th>47</th>\n",
       "      <td>1032293</td>\n",
       "      <td>Anni Manchi Sakunamule</td>\n",
       "      <td>[Comedy, Family, Romance]</td>\n",
       "      <td>NaN</td>\n",
       "      <td>[Santosh Shoban, Malavika Nair, Vennela Kishore]</td>\n",
       "      <td>/rUX0hS51w2lIiMBVvfMHpJfKW6W.jpg</td>\n",
       "    </tr>\n",
       "    <tr>\n",
       "      <th>96</th>\n",
       "      <td>1090486</td>\n",
       "      <td>BRO</td>\n",
       "      <td>[Comedy, Drama, Fantasy]</td>\n",
       "      <td>NaN</td>\n",
       "      <td>[Pawan Kalyan, Sai Dharam Tej, Ketika Sharma]</td>\n",
       "      <td>/AhKWtkIjtPTaRawVaR1roNj1HxR.jpg</td>\n",
       "    </tr>\n",
       "    <tr>\n",
       "      <th>132</th>\n",
       "      <td>864221</td>\n",
       "      <td>Bhola Shankar</td>\n",
       "      <td>[Drama, Action]</td>\n",
       "      <td>NaN</td>\n",
       "      <td>[Chiranjeevi, Keerthy Suresh, Tamannaah Bhatia]</td>\n",
       "      <td>/kG63t05rRkIIRB0F2DNCExh3GwK.jpg</td>\n",
       "    </tr>\n",
       "    <tr>\n",
       "      <th>201</th>\n",
       "      <td>1034164</td>\n",
       "      <td>Nenu Student Sir!</td>\n",
       "      <td>[Comedy, Romance, Thriller]</td>\n",
       "      <td>NaN</td>\n",
       "      <td>[Bellamkonda Ganesh, Avantika Dassani, Samuthi...</td>\n",
       "      <td>/uCioTenCVELAe8csXyP0XcexQ7Q.jpg</td>\n",
       "    </tr>\n",
       "    <tr>\n",
       "      <th>...</th>\n",
       "      <td>...</td>\n",
       "      <td>...</td>\n",
       "      <td>...</td>\n",
       "      <td>...</td>\n",
       "      <td>...</td>\n",
       "      <td>...</td>\n",
       "    </tr>\n",
       "    <tr>\n",
       "      <th>2278</th>\n",
       "      <td>279497</td>\n",
       "      <td>Aggiramudu</td>\n",
       "      <td>[Romance]</td>\n",
       "      <td>NaN</td>\n",
       "      <td>[Venkatesh, Amala Akkineni, Gautami Tadimalla]</td>\n",
       "      <td>NaN</td>\n",
       "    </tr>\n",
       "    <tr>\n",
       "      <th>2281</th>\n",
       "      <td>279363</td>\n",
       "      <td>Mogudu Kaavali</td>\n",
       "      <td>[Family]</td>\n",
       "      <td>NaN</td>\n",
       "      <td>[Chiranjeevi, Gayathri]</td>\n",
       "      <td>NaN</td>\n",
       "    </tr>\n",
       "    <tr>\n",
       "      <th>2295</th>\n",
       "      <td>279287</td>\n",
       "      <td>Chakravarthy</td>\n",
       "      <td>[Drama]</td>\n",
       "      <td>NaN</td>\n",
       "      <td>[Chiranjeevi, Mohan Babu, Bhanupriya]</td>\n",
       "      <td>NaN</td>\n",
       "    </tr>\n",
       "    <tr>\n",
       "      <th>2297</th>\n",
       "      <td>279108</td>\n",
       "      <td>Hands Up</td>\n",
       "      <td>[Comedy]</td>\n",
       "      <td>NaN</td>\n",
       "      <td>[Nagendra Babu, Jayasudha, Chiranjeevi]</td>\n",
       "      <td>NaN</td>\n",
       "    </tr>\n",
       "    <tr>\n",
       "      <th>2298</th>\n",
       "      <td>278390</td>\n",
       "      <td>Keeravani</td>\n",
       "      <td>[Romance]</td>\n",
       "      <td>NaN</td>\n",
       "      <td>[Sharwanand, Mammootty, Prabhu]</td>\n",
       "      <td>NaN</td>\n",
       "    </tr>\n",
       "  </tbody>\n",
       "</table>\n",
       "<p>215 rows × 6 columns</p>\n",
       "</div>"
      ],
      "text/plain": [
       "           id                   title                        genre overview  \\\n",
       "20    1114702                 Vimanam              [Drama, Family]      NaN   \n",
       "47    1032293  Anni Manchi Sakunamule    [Comedy, Family, Romance]      NaN   \n",
       "96    1090486                     BRO     [Comedy, Drama, Fantasy]      NaN   \n",
       "132    864221           Bhola Shankar              [Drama, Action]      NaN   \n",
       "201   1034164       Nenu Student Sir!  [Comedy, Romance, Thriller]      NaN   \n",
       "...       ...                     ...                          ...      ...   \n",
       "2278   279497              Aggiramudu                    [Romance]      NaN   \n",
       "2281   279363          Mogudu Kaavali                     [Family]      NaN   \n",
       "2295   279287            Chakravarthy                      [Drama]      NaN   \n",
       "2297   279108                Hands Up                     [Comedy]      NaN   \n",
       "2298   278390               Keeravani                    [Romance]      NaN   \n",
       "\n",
       "                                                 actors  \\\n",
       "20    [Samuthirakani, Anasuya Bharadwaj, Meera Jasmine]   \n",
       "47     [Santosh Shoban, Malavika Nair, Vennela Kishore]   \n",
       "96        [Pawan Kalyan, Sai Dharam Tej, Ketika Sharma]   \n",
       "132     [Chiranjeevi, Keerthy Suresh, Tamannaah Bhatia]   \n",
       "201   [Bellamkonda Ganesh, Avantika Dassani, Samuthi...   \n",
       "...                                                 ...   \n",
       "2278     [Venkatesh, Amala Akkineni, Gautami Tadimalla]   \n",
       "2281                            [Chiranjeevi, Gayathri]   \n",
       "2295              [Chiranjeevi, Mohan Babu, Bhanupriya]   \n",
       "2297            [Nagendra Babu, Jayasudha, Chiranjeevi]   \n",
       "2298                    [Sharwanand, Mammootty, Prabhu]   \n",
       "\n",
       "                           poster_path  \n",
       "20    /d1FQfGMDGRiPqqG5MTC7DZi4joY.jpg  \n",
       "47    /rUX0hS51w2lIiMBVvfMHpJfKW6W.jpg  \n",
       "96    /AhKWtkIjtPTaRawVaR1roNj1HxR.jpg  \n",
       "132   /kG63t05rRkIIRB0F2DNCExh3GwK.jpg  \n",
       "201   /uCioTenCVELAe8csXyP0XcexQ7Q.jpg  \n",
       "...                                ...  \n",
       "2278                               NaN  \n",
       "2281                               NaN  \n",
       "2295                               NaN  \n",
       "2297                               NaN  \n",
       "2298                               NaN  \n",
       "\n",
       "[215 rows x 6 columns]"
      ]
     },
     "execution_count": 27,
     "metadata": {},
     "output_type": "execute_result"
    }
   ],
   "source": [
    "movies[pd.isnull(movies['overview']) ]"
   ]
  },
  {
   "cell_type": "markdown",
   "id": "a9304476",
   "metadata": {},
   "source": [
    "since dataframe having missing values droping missing values in dataframe"
   ]
  },
  {
   "cell_type": "code",
   "execution_count": 28,
   "id": "b63752d8",
   "metadata": {},
   "outputs": [],
   "source": [
    "movies.dropna(inplace=True)"
   ]
  },
  {
   "cell_type": "code",
   "execution_count": 29,
   "id": "8a2efdc8",
   "metadata": {},
   "outputs": [
    {
     "data": {
      "text/plain": [
       "(1682, 6)"
      ]
     },
     "execution_count": 29,
     "metadata": {},
     "output_type": "execute_result"
    }
   ],
   "source": [
    "movies.shape"
   ]
  },
  {
   "cell_type": "code",
   "execution_count": 30,
   "id": "cd4b79c0",
   "metadata": {
    "scrolled": true
   },
   "outputs": [
    {
     "data": {
      "text/html": [
       "<div>\n",
       "<style scoped>\n",
       "    .dataframe tbody tr th:only-of-type {\n",
       "        vertical-align: middle;\n",
       "    }\n",
       "\n",
       "    .dataframe tbody tr th {\n",
       "        vertical-align: top;\n",
       "    }\n",
       "\n",
       "    .dataframe thead th {\n",
       "        text-align: right;\n",
       "    }\n",
       "</style>\n",
       "<table border=\"1\" class=\"dataframe\">\n",
       "  <thead>\n",
       "    <tr style=\"text-align: right;\">\n",
       "      <th></th>\n",
       "      <th>id</th>\n",
       "      <th>title</th>\n",
       "      <th>genre</th>\n",
       "      <th>overview</th>\n",
       "      <th>actors</th>\n",
       "      <th>poster_path</th>\n",
       "    </tr>\n",
       "  </thead>\n",
       "  <tbody>\n",
       "    <tr>\n",
       "      <th>0</th>\n",
       "      <td>579974</td>\n",
       "      <td>RRR</td>\n",
       "      <td>[Action, Drama]</td>\n",
       "      <td>A fictional history of two legendary revolutio...</td>\n",
       "      <td>[N. T. Rama Rao Jr., Ram Charan, Ajay Devgn]</td>\n",
       "      <td>/nEufeZlyAOLqO2brrs0yeF1lgXO.jpg</td>\n",
       "    </tr>\n",
       "    <tr>\n",
       "      <th>1</th>\n",
       "      <td>256040</td>\n",
       "      <td>Bāhubali: The Beginning</td>\n",
       "      <td>[Action, Adventure, Drama, Fantasy]</td>\n",
       "      <td>The young Shivudu is left as a foundling in a ...</td>\n",
       "      <td>[Prabhas, Rana Daggubati, Tamannaah Bhatia]</td>\n",
       "      <td>/9BAjt8nSSms62uOVYn1t3C3dVto.jpg</td>\n",
       "    </tr>\n",
       "    <tr>\n",
       "      <th>2</th>\n",
       "      <td>690957</td>\n",
       "      <td>Pushpa: The Rise - Part 1</td>\n",
       "      <td>[Action, Drama, Thriller]</td>\n",
       "      <td>Pushpa Raj is a coolie who rises in the world ...</td>\n",
       "      <td>[Allu Arjun, Fahadh Faasil, Rashmika Mandanna]</td>\n",
       "      <td>/r1yAzVQNbCbPTbB3GZFour9Qr0t.jpg</td>\n",
       "    </tr>\n",
       "    <tr>\n",
       "      <th>3</th>\n",
       "      <td>350312</td>\n",
       "      <td>Bāhubali 2: The Conclusion</td>\n",
       "      <td>[Action, Adventure, Fantasy]</td>\n",
       "      <td>When Mahendra, the son of Bāhubali, learns abo...</td>\n",
       "      <td>[Prabhas, Rana Daggubati, Sathyaraj]</td>\n",
       "      <td>/21sC2assImQIYCEDA84Qh9d1RsK.jpg</td>\n",
       "    </tr>\n",
       "    <tr>\n",
       "      <th>4</th>\n",
       "      <td>901277</td>\n",
       "      <td>CSI Sanatan</td>\n",
       "      <td>[Crime, Thriller]</td>\n",
       "      <td>When a buisness tycoon Vikram Chakravarthi get...</td>\n",
       "      <td>[Aadi Saikumar, Misha Narang, Ali Reza]</td>\n",
       "      <td>/yscCuJsNYDh2vHc6VrASnZcbaDw.jpg</td>\n",
       "    </tr>\n",
       "    <tr>\n",
       "      <th>...</th>\n",
       "      <td>...</td>\n",
       "      <td>...</td>\n",
       "      <td>...</td>\n",
       "      <td>...</td>\n",
       "      <td>...</td>\n",
       "      <td>...</td>\n",
       "    </tr>\n",
       "    <tr>\n",
       "      <th>2296</th>\n",
       "      <td>279110</td>\n",
       "      <td>Master</td>\n",
       "      <td>[Action, Drama]</td>\n",
       "      <td>A popular college professor is unable to find ...</td>\n",
       "      <td>[Chiranjeevi, Sakshi Shivananda, Puneet Issar]</td>\n",
       "      <td>/dZwuPQ3xU6jVpM4V2x8f2VeZYxt.jpg</td>\n",
       "    </tr>\n",
       "    <tr>\n",
       "      <th>2299</th>\n",
       "      <td>278035</td>\n",
       "      <td>Swati Kiranam</td>\n",
       "      <td>[Drama, Family]</td>\n",
       "      <td>An egotistical music teacher envious of the ex...</td>\n",
       "      <td>[Mammootty, Radhika Sarathkumar, Master Manjun...</td>\n",
       "      <td>/nMtsgVTfaCdVQZOXx1Yh8Himj5M.jpg</td>\n",
       "    </tr>\n",
       "    <tr>\n",
       "      <th>2300</th>\n",
       "      <td>274754</td>\n",
       "      <td>Andagadu</td>\n",
       "      <td>[Comedy]</td>\n",
       "      <td>Though he's successful in his career composing...</td>\n",
       "      <td>[Rajendra Prasad, Damini, Chandramohan]</td>\n",
       "      <td>/iR3pxOIigseQRfqCAmr4yKcLu7f.jpg</td>\n",
       "    </tr>\n",
       "    <tr>\n",
       "      <th>2302</th>\n",
       "      <td>267689</td>\n",
       "      <td>Billa Ranga</td>\n",
       "      <td>[Thriller]</td>\n",
       "      <td>Billa Ranga is action thriller based movie in ...</td>\n",
       "      <td>[Chiranjeevi, Mohan Babu, Swapna]</td>\n",
       "      <td>/4k7oR6S8lZMNYuqBNseGp4ZZfZ9.jpg</td>\n",
       "    </tr>\n",
       "    <tr>\n",
       "      <th>2303</th>\n",
       "      <td>267687</td>\n",
       "      <td>Subhalekha</td>\n",
       "      <td>[Drama]</td>\n",
       "      <td>Subhalekha is family oriented movie in which, ...</td>\n",
       "      <td>[Chiranjeevi, Sumalatha, Subhalekha Sudhakar]</td>\n",
       "      <td>/5MnPodIYT68QY7DGYoQJWV33TcH.jpg</td>\n",
       "    </tr>\n",
       "  </tbody>\n",
       "</table>\n",
       "<p>1682 rows × 6 columns</p>\n",
       "</div>"
      ],
      "text/plain": [
       "          id                       title                                genre  \\\n",
       "0     579974                         RRR                      [Action, Drama]   \n",
       "1     256040     Bāhubali: The Beginning  [Action, Adventure, Drama, Fantasy]   \n",
       "2     690957   Pushpa: The Rise - Part 1            [Action, Drama, Thriller]   \n",
       "3     350312  Bāhubali 2: The Conclusion         [Action, Adventure, Fantasy]   \n",
       "4     901277                 CSI Sanatan                    [Crime, Thriller]   \n",
       "...      ...                         ...                                  ...   \n",
       "2296  279110                      Master                      [Action, Drama]   \n",
       "2299  278035               Swati Kiranam                      [Drama, Family]   \n",
       "2300  274754                    Andagadu                             [Comedy]   \n",
       "2302  267689                 Billa Ranga                           [Thriller]   \n",
       "2303  267687                  Subhalekha                              [Drama]   \n",
       "\n",
       "                                               overview  \\\n",
       "0     A fictional history of two legendary revolutio...   \n",
       "1     The young Shivudu is left as a foundling in a ...   \n",
       "2     Pushpa Raj is a coolie who rises in the world ...   \n",
       "3     When Mahendra, the son of Bāhubali, learns abo...   \n",
       "4     When a buisness tycoon Vikram Chakravarthi get...   \n",
       "...                                                 ...   \n",
       "2296  A popular college professor is unable to find ...   \n",
       "2299  An egotistical music teacher envious of the ex...   \n",
       "2300  Though he's successful in his career composing...   \n",
       "2302  Billa Ranga is action thriller based movie in ...   \n",
       "2303  Subhalekha is family oriented movie in which, ...   \n",
       "\n",
       "                                                 actors  \\\n",
       "0          [N. T. Rama Rao Jr., Ram Charan, Ajay Devgn]   \n",
       "1           [Prabhas, Rana Daggubati, Tamannaah Bhatia]   \n",
       "2        [Allu Arjun, Fahadh Faasil, Rashmika Mandanna]   \n",
       "3                  [Prabhas, Rana Daggubati, Sathyaraj]   \n",
       "4               [Aadi Saikumar, Misha Narang, Ali Reza]   \n",
       "...                                                 ...   \n",
       "2296     [Chiranjeevi, Sakshi Shivananda, Puneet Issar]   \n",
       "2299  [Mammootty, Radhika Sarathkumar, Master Manjun...   \n",
       "2300            [Rajendra Prasad, Damini, Chandramohan]   \n",
       "2302                  [Chiranjeevi, Mohan Babu, Swapna]   \n",
       "2303      [Chiranjeevi, Sumalatha, Subhalekha Sudhakar]   \n",
       "\n",
       "                           poster_path  \n",
       "0     /nEufeZlyAOLqO2brrs0yeF1lgXO.jpg  \n",
       "1     /9BAjt8nSSms62uOVYn1t3C3dVto.jpg  \n",
       "2     /r1yAzVQNbCbPTbB3GZFour9Qr0t.jpg  \n",
       "3     /21sC2assImQIYCEDA84Qh9d1RsK.jpg  \n",
       "4     /yscCuJsNYDh2vHc6VrASnZcbaDw.jpg  \n",
       "...                                ...  \n",
       "2296  /dZwuPQ3xU6jVpM4V2x8f2VeZYxt.jpg  \n",
       "2299  /nMtsgVTfaCdVQZOXx1Yh8Himj5M.jpg  \n",
       "2300  /iR3pxOIigseQRfqCAmr4yKcLu7f.jpg  \n",
       "2302  /4k7oR6S8lZMNYuqBNseGp4ZZfZ9.jpg  \n",
       "2303  /5MnPodIYT68QY7DGYoQJWV33TcH.jpg  \n",
       "\n",
       "[1682 rows x 6 columns]"
      ]
     },
     "execution_count": 30,
     "metadata": {},
     "output_type": "execute_result"
    }
   ],
   "source": [
    "movies"
   ]
  },
  {
   "cell_type": "markdown",
   "id": "1d21431d",
   "metadata": {},
   "source": [
    "the data frame hiving missing values in genre column too since i am going to add all lists not droping missing values in genre column"
   ]
  },
  {
   "cell_type": "code",
   "execution_count": 31,
   "id": "3261fc04",
   "metadata": {
    "scrolled": true
   },
   "outputs": [
    {
     "data": {
      "text/plain": [
       "(231, 6)"
      ]
     },
     "execution_count": 31,
     "metadata": {},
     "output_type": "execute_result"
    }
   ],
   "source": [
    "movies[movies[\"genre\"].str.len() == 0].shape"
   ]
  },
  {
   "cell_type": "markdown",
   "id": "daa377e6",
   "metadata": {},
   "source": [
    "converting overview column into list for adding all lists to crerate new columns called tags"
   ]
  },
  {
   "cell_type": "code",
   "execution_count": 32,
   "id": "a16eca12",
   "metadata": {},
   "outputs": [],
   "source": [
    "movies['overview']=movies['overview'].apply(lambda x: x.split())"
   ]
  },
  {
   "cell_type": "code",
   "execution_count": 33,
   "id": "240cfa4f",
   "metadata": {
    "scrolled": true
   },
   "outputs": [
    {
     "data": {
      "text/html": [
       "<div>\n",
       "<style scoped>\n",
       "    .dataframe tbody tr th:only-of-type {\n",
       "        vertical-align: middle;\n",
       "    }\n",
       "\n",
       "    .dataframe tbody tr th {\n",
       "        vertical-align: top;\n",
       "    }\n",
       "\n",
       "    .dataframe thead th {\n",
       "        text-align: right;\n",
       "    }\n",
       "</style>\n",
       "<table border=\"1\" class=\"dataframe\">\n",
       "  <thead>\n",
       "    <tr style=\"text-align: right;\">\n",
       "      <th></th>\n",
       "      <th>id</th>\n",
       "      <th>title</th>\n",
       "      <th>genre</th>\n",
       "      <th>overview</th>\n",
       "      <th>actors</th>\n",
       "      <th>poster_path</th>\n",
       "    </tr>\n",
       "  </thead>\n",
       "  <tbody>\n",
       "    <tr>\n",
       "      <th>0</th>\n",
       "      <td>579974</td>\n",
       "      <td>RRR</td>\n",
       "      <td>[Action, Drama]</td>\n",
       "      <td>[A, fictional, history, of, two, legendary, re...</td>\n",
       "      <td>[N. T. Rama Rao Jr., Ram Charan, Ajay Devgn]</td>\n",
       "      <td>/nEufeZlyAOLqO2brrs0yeF1lgXO.jpg</td>\n",
       "    </tr>\n",
       "    <tr>\n",
       "      <th>1</th>\n",
       "      <td>256040</td>\n",
       "      <td>Bāhubali: The Beginning</td>\n",
       "      <td>[Action, Adventure, Drama, Fantasy]</td>\n",
       "      <td>[The, young, Shivudu, is, left, as, a, foundli...</td>\n",
       "      <td>[Prabhas, Rana Daggubati, Tamannaah Bhatia]</td>\n",
       "      <td>/9BAjt8nSSms62uOVYn1t3C3dVto.jpg</td>\n",
       "    </tr>\n",
       "    <tr>\n",
       "      <th>2</th>\n",
       "      <td>690957</td>\n",
       "      <td>Pushpa: The Rise - Part 1</td>\n",
       "      <td>[Action, Drama, Thriller]</td>\n",
       "      <td>[Pushpa, Raj, is, a, coolie, who, rises, in, t...</td>\n",
       "      <td>[Allu Arjun, Fahadh Faasil, Rashmika Mandanna]</td>\n",
       "      <td>/r1yAzVQNbCbPTbB3GZFour9Qr0t.jpg</td>\n",
       "    </tr>\n",
       "    <tr>\n",
       "      <th>3</th>\n",
       "      <td>350312</td>\n",
       "      <td>Bāhubali 2: The Conclusion</td>\n",
       "      <td>[Action, Adventure, Fantasy]</td>\n",
       "      <td>[When, Mahendra,, the, son, of, Bāhubali,, lea...</td>\n",
       "      <td>[Prabhas, Rana Daggubati, Sathyaraj]</td>\n",
       "      <td>/21sC2assImQIYCEDA84Qh9d1RsK.jpg</td>\n",
       "    </tr>\n",
       "    <tr>\n",
       "      <th>4</th>\n",
       "      <td>901277</td>\n",
       "      <td>CSI Sanatan</td>\n",
       "      <td>[Crime, Thriller]</td>\n",
       "      <td>[When, a, buisness, tycoon, Vikram, Chakravart...</td>\n",
       "      <td>[Aadi Saikumar, Misha Narang, Ali Reza]</td>\n",
       "      <td>/yscCuJsNYDh2vHc6VrASnZcbaDw.jpg</td>\n",
       "    </tr>\n",
       "    <tr>\n",
       "      <th>...</th>\n",
       "      <td>...</td>\n",
       "      <td>...</td>\n",
       "      <td>...</td>\n",
       "      <td>...</td>\n",
       "      <td>...</td>\n",
       "      <td>...</td>\n",
       "    </tr>\n",
       "    <tr>\n",
       "      <th>2296</th>\n",
       "      <td>279110</td>\n",
       "      <td>Master</td>\n",
       "      <td>[Action, Drama]</td>\n",
       "      <td>[A, popular, college, professor, is, unable, t...</td>\n",
       "      <td>[Chiranjeevi, Sakshi Shivananda, Puneet Issar]</td>\n",
       "      <td>/dZwuPQ3xU6jVpM4V2x8f2VeZYxt.jpg</td>\n",
       "    </tr>\n",
       "    <tr>\n",
       "      <th>2299</th>\n",
       "      <td>278035</td>\n",
       "      <td>Swati Kiranam</td>\n",
       "      <td>[Drama, Family]</td>\n",
       "      <td>[An, egotistical, music, teacher, envious, of,...</td>\n",
       "      <td>[Mammootty, Radhika Sarathkumar, Master Manjun...</td>\n",
       "      <td>/nMtsgVTfaCdVQZOXx1Yh8Himj5M.jpg</td>\n",
       "    </tr>\n",
       "    <tr>\n",
       "      <th>2300</th>\n",
       "      <td>274754</td>\n",
       "      <td>Andagadu</td>\n",
       "      <td>[Comedy]</td>\n",
       "      <td>[Though, he's, successful, in, his, career, co...</td>\n",
       "      <td>[Rajendra Prasad, Damini, Chandramohan]</td>\n",
       "      <td>/iR3pxOIigseQRfqCAmr4yKcLu7f.jpg</td>\n",
       "    </tr>\n",
       "    <tr>\n",
       "      <th>2302</th>\n",
       "      <td>267689</td>\n",
       "      <td>Billa Ranga</td>\n",
       "      <td>[Thriller]</td>\n",
       "      <td>[Billa, Ranga, is, action, thriller, based, mo...</td>\n",
       "      <td>[Chiranjeevi, Mohan Babu, Swapna]</td>\n",
       "      <td>/4k7oR6S8lZMNYuqBNseGp4ZZfZ9.jpg</td>\n",
       "    </tr>\n",
       "    <tr>\n",
       "      <th>2303</th>\n",
       "      <td>267687</td>\n",
       "      <td>Subhalekha</td>\n",
       "      <td>[Drama]</td>\n",
       "      <td>[Subhalekha, is, family, oriented, movie, in, ...</td>\n",
       "      <td>[Chiranjeevi, Sumalatha, Subhalekha Sudhakar]</td>\n",
       "      <td>/5MnPodIYT68QY7DGYoQJWV33TcH.jpg</td>\n",
       "    </tr>\n",
       "  </tbody>\n",
       "</table>\n",
       "<p>1682 rows × 6 columns</p>\n",
       "</div>"
      ],
      "text/plain": [
       "          id                       title                                genre  \\\n",
       "0     579974                         RRR                      [Action, Drama]   \n",
       "1     256040     Bāhubali: The Beginning  [Action, Adventure, Drama, Fantasy]   \n",
       "2     690957   Pushpa: The Rise - Part 1            [Action, Drama, Thriller]   \n",
       "3     350312  Bāhubali 2: The Conclusion         [Action, Adventure, Fantasy]   \n",
       "4     901277                 CSI Sanatan                    [Crime, Thriller]   \n",
       "...      ...                         ...                                  ...   \n",
       "2296  279110                      Master                      [Action, Drama]   \n",
       "2299  278035               Swati Kiranam                      [Drama, Family]   \n",
       "2300  274754                    Andagadu                             [Comedy]   \n",
       "2302  267689                 Billa Ranga                           [Thriller]   \n",
       "2303  267687                  Subhalekha                              [Drama]   \n",
       "\n",
       "                                               overview  \\\n",
       "0     [A, fictional, history, of, two, legendary, re...   \n",
       "1     [The, young, Shivudu, is, left, as, a, foundli...   \n",
       "2     [Pushpa, Raj, is, a, coolie, who, rises, in, t...   \n",
       "3     [When, Mahendra,, the, son, of, Bāhubali,, lea...   \n",
       "4     [When, a, buisness, tycoon, Vikram, Chakravart...   \n",
       "...                                                 ...   \n",
       "2296  [A, popular, college, professor, is, unable, t...   \n",
       "2299  [An, egotistical, music, teacher, envious, of,...   \n",
       "2300  [Though, he's, successful, in, his, career, co...   \n",
       "2302  [Billa, Ranga, is, action, thriller, based, mo...   \n",
       "2303  [Subhalekha, is, family, oriented, movie, in, ...   \n",
       "\n",
       "                                                 actors  \\\n",
       "0          [N. T. Rama Rao Jr., Ram Charan, Ajay Devgn]   \n",
       "1           [Prabhas, Rana Daggubati, Tamannaah Bhatia]   \n",
       "2        [Allu Arjun, Fahadh Faasil, Rashmika Mandanna]   \n",
       "3                  [Prabhas, Rana Daggubati, Sathyaraj]   \n",
       "4               [Aadi Saikumar, Misha Narang, Ali Reza]   \n",
       "...                                                 ...   \n",
       "2296     [Chiranjeevi, Sakshi Shivananda, Puneet Issar]   \n",
       "2299  [Mammootty, Radhika Sarathkumar, Master Manjun...   \n",
       "2300            [Rajendra Prasad, Damini, Chandramohan]   \n",
       "2302                  [Chiranjeevi, Mohan Babu, Swapna]   \n",
       "2303      [Chiranjeevi, Sumalatha, Subhalekha Sudhakar]   \n",
       "\n",
       "                           poster_path  \n",
       "0     /nEufeZlyAOLqO2brrs0yeF1lgXO.jpg  \n",
       "1     /9BAjt8nSSms62uOVYn1t3C3dVto.jpg  \n",
       "2     /r1yAzVQNbCbPTbB3GZFour9Qr0t.jpg  \n",
       "3     /21sC2assImQIYCEDA84Qh9d1RsK.jpg  \n",
       "4     /yscCuJsNYDh2vHc6VrASnZcbaDw.jpg  \n",
       "...                                ...  \n",
       "2296  /dZwuPQ3xU6jVpM4V2x8f2VeZYxt.jpg  \n",
       "2299  /nMtsgVTfaCdVQZOXx1Yh8Himj5M.jpg  \n",
       "2300  /iR3pxOIigseQRfqCAmr4yKcLu7f.jpg  \n",
       "2302  /4k7oR6S8lZMNYuqBNseGp4ZZfZ9.jpg  \n",
       "2303  /5MnPodIYT68QY7DGYoQJWV33TcH.jpg  \n",
       "\n",
       "[1682 rows x 6 columns]"
      ]
     },
     "execution_count": 33,
     "metadata": {},
     "output_type": "execute_result"
    }
   ],
   "source": [
    "movies"
   ]
  },
  {
   "cell_type": "markdown",
   "id": "5c340e92",
   "metadata": {},
   "source": [
    "removing space between two words so that it won't consider single name or identity into two separate words"
   ]
  },
  {
   "cell_type": "code",
   "execution_count": 34,
   "id": "5f0b0819",
   "metadata": {},
   "outputs": [],
   "source": [
    "movies['genre']=movies['genre'].apply(lambda x:[i.replace(' ','')for i in x])\n",
    "movies['overview']=movies['overview'].apply(lambda x:[i.replace(' ','')for i in x])\n",
    "movies['actors']=movies['actors'].apply(lambda x:[i.replace(' ','')for i in x])\n"
   ]
  },
  {
   "cell_type": "code",
   "execution_count": 35,
   "id": "0ef84b64",
   "metadata": {
    "scrolled": false
   },
   "outputs": [
    {
     "data": {
      "text/html": [
       "<div>\n",
       "<style scoped>\n",
       "    .dataframe tbody tr th:only-of-type {\n",
       "        vertical-align: middle;\n",
       "    }\n",
       "\n",
       "    .dataframe tbody tr th {\n",
       "        vertical-align: top;\n",
       "    }\n",
       "\n",
       "    .dataframe thead th {\n",
       "        text-align: right;\n",
       "    }\n",
       "</style>\n",
       "<table border=\"1\" class=\"dataframe\">\n",
       "  <thead>\n",
       "    <tr style=\"text-align: right;\">\n",
       "      <th></th>\n",
       "      <th>id</th>\n",
       "      <th>title</th>\n",
       "      <th>genre</th>\n",
       "      <th>overview</th>\n",
       "      <th>actors</th>\n",
       "      <th>poster_path</th>\n",
       "    </tr>\n",
       "  </thead>\n",
       "  <tbody>\n",
       "    <tr>\n",
       "      <th>0</th>\n",
       "      <td>579974</td>\n",
       "      <td>RRR</td>\n",
       "      <td>[Action, Drama]</td>\n",
       "      <td>[A, fictional, history, of, two, legendary, re...</td>\n",
       "      <td>[N.T.RamaRaoJr., RamCharan, AjayDevgn]</td>\n",
       "      <td>/nEufeZlyAOLqO2brrs0yeF1lgXO.jpg</td>\n",
       "    </tr>\n",
       "    <tr>\n",
       "      <th>1</th>\n",
       "      <td>256040</td>\n",
       "      <td>Bāhubali: The Beginning</td>\n",
       "      <td>[Action, Adventure, Drama, Fantasy]</td>\n",
       "      <td>[The, young, Shivudu, is, left, as, a, foundli...</td>\n",
       "      <td>[Prabhas, RanaDaggubati, TamannaahBhatia]</td>\n",
       "      <td>/9BAjt8nSSms62uOVYn1t3C3dVto.jpg</td>\n",
       "    </tr>\n",
       "    <tr>\n",
       "      <th>2</th>\n",
       "      <td>690957</td>\n",
       "      <td>Pushpa: The Rise - Part 1</td>\n",
       "      <td>[Action, Drama, Thriller]</td>\n",
       "      <td>[Pushpa, Raj, is, a, coolie, who, rises, in, t...</td>\n",
       "      <td>[AlluArjun, FahadhFaasil, RashmikaMandanna]</td>\n",
       "      <td>/r1yAzVQNbCbPTbB3GZFour9Qr0t.jpg</td>\n",
       "    </tr>\n",
       "    <tr>\n",
       "      <th>3</th>\n",
       "      <td>350312</td>\n",
       "      <td>Bāhubali 2: The Conclusion</td>\n",
       "      <td>[Action, Adventure, Fantasy]</td>\n",
       "      <td>[When, Mahendra,, the, son, of, Bāhubali,, lea...</td>\n",
       "      <td>[Prabhas, RanaDaggubati, Sathyaraj]</td>\n",
       "      <td>/21sC2assImQIYCEDA84Qh9d1RsK.jpg</td>\n",
       "    </tr>\n",
       "    <tr>\n",
       "      <th>4</th>\n",
       "      <td>901277</td>\n",
       "      <td>CSI Sanatan</td>\n",
       "      <td>[Crime, Thriller]</td>\n",
       "      <td>[When, a, buisness, tycoon, Vikram, Chakravart...</td>\n",
       "      <td>[AadiSaikumar, MishaNarang, AliReza]</td>\n",
       "      <td>/yscCuJsNYDh2vHc6VrASnZcbaDw.jpg</td>\n",
       "    </tr>\n",
       "  </tbody>\n",
       "</table>\n",
       "</div>"
      ],
      "text/plain": [
       "       id                       title                                genre  \\\n",
       "0  579974                         RRR                      [Action, Drama]   \n",
       "1  256040     Bāhubali: The Beginning  [Action, Adventure, Drama, Fantasy]   \n",
       "2  690957   Pushpa: The Rise - Part 1            [Action, Drama, Thriller]   \n",
       "3  350312  Bāhubali 2: The Conclusion         [Action, Adventure, Fantasy]   \n",
       "4  901277                 CSI Sanatan                    [Crime, Thriller]   \n",
       "\n",
       "                                            overview  \\\n",
       "0  [A, fictional, history, of, two, legendary, re...   \n",
       "1  [The, young, Shivudu, is, left, as, a, foundli...   \n",
       "2  [Pushpa, Raj, is, a, coolie, who, rises, in, t...   \n",
       "3  [When, Mahendra,, the, son, of, Bāhubali,, lea...   \n",
       "4  [When, a, buisness, tycoon, Vikram, Chakravart...   \n",
       "\n",
       "                                        actors  \\\n",
       "0       [N.T.RamaRaoJr., RamCharan, AjayDevgn]   \n",
       "1    [Prabhas, RanaDaggubati, TamannaahBhatia]   \n",
       "2  [AlluArjun, FahadhFaasil, RashmikaMandanna]   \n",
       "3          [Prabhas, RanaDaggubati, Sathyaraj]   \n",
       "4         [AadiSaikumar, MishaNarang, AliReza]   \n",
       "\n",
       "                        poster_path  \n",
       "0  /nEufeZlyAOLqO2brrs0yeF1lgXO.jpg  \n",
       "1  /9BAjt8nSSms62uOVYn1t3C3dVto.jpg  \n",
       "2  /r1yAzVQNbCbPTbB3GZFour9Qr0t.jpg  \n",
       "3  /21sC2assImQIYCEDA84Qh9d1RsK.jpg  \n",
       "4  /yscCuJsNYDh2vHc6VrASnZcbaDw.jpg  "
      ]
     },
     "execution_count": 35,
     "metadata": {},
     "output_type": "execute_result"
    }
   ],
   "source": [
    "movies.head()"
   ]
  },
  {
   "cell_type": "markdown",
   "id": "d82ea389",
   "metadata": {},
   "source": [
    "creating new columns called tags which will include genre ,overview ,actors"
   ]
  },
  {
   "cell_type": "code",
   "execution_count": 36,
   "id": "f056e4ca",
   "metadata": {},
   "outputs": [],
   "source": [
    "movies['tags']=movies['genre']+movies['overview']+movies['actors']"
   ]
  },
  {
   "cell_type": "code",
   "execution_count": 37,
   "id": "43a51a66",
   "metadata": {},
   "outputs": [],
   "source": [
    "new_df=movies[['id','title','tags']]"
   ]
  },
  {
   "cell_type": "markdown",
   "id": "4db2ed8b",
   "metadata": {},
   "source": [
    "joining space with nothing in tags column"
   ]
  },
  {
   "cell_type": "code",
   "execution_count": 38,
   "id": "a70c8955",
   "metadata": {},
   "outputs": [
    {
     "name": "stderr",
     "output_type": "stream",
     "text": [
      "C:\\Users\\User\\AppData\\Local\\Temp\\ipykernel_13660\\487797088.py:1: SettingWithCopyWarning: \n",
      "A value is trying to be set on a copy of a slice from a DataFrame.\n",
      "Try using .loc[row_indexer,col_indexer] = value instead\n",
      "\n",
      "See the caveats in the documentation: https://pandas.pydata.org/pandas-docs/stable/user_guide/indexing.html#returning-a-view-versus-a-copy\n",
      "  new_df['tags']=new_df['tags'].apply(lambda x:\" \".join(x))\n"
     ]
    }
   ],
   "source": [
    "new_df['tags']=new_df['tags'].apply(lambda x:\" \".join(x))"
   ]
  },
  {
   "cell_type": "markdown",
   "id": "cff3d40c",
   "metadata": {},
   "source": [
    "lowering all words in corpus"
   ]
  },
  {
   "cell_type": "code",
   "execution_count": 39,
   "id": "edb853f6",
   "metadata": {
    "scrolled": false
   },
   "outputs": [
    {
     "name": "stderr",
     "output_type": "stream",
     "text": [
      "C:\\Users\\User\\AppData\\Local\\Temp\\ipykernel_13660\\2543325826.py:1: SettingWithCopyWarning: \n",
      "A value is trying to be set on a copy of a slice from a DataFrame.\n",
      "Try using .loc[row_indexer,col_indexer] = value instead\n",
      "\n",
      "See the caveats in the documentation: https://pandas.pydata.org/pandas-docs/stable/user_guide/indexing.html#returning-a-view-versus-a-copy\n",
      "  new_df['tags']=new_df['tags'].apply(lambda x: x.lower())\n"
     ]
    }
   ],
   "source": [
    "new_df['tags']=new_df['tags'].apply(lambda x: x.lower())"
   ]
  },
  {
   "cell_type": "markdown",
   "id": "2162cf90",
   "metadata": {},
   "source": [
    "creating countvectorizer object "
   ]
  },
  {
   "cell_type": "code",
   "execution_count": 40,
   "id": "7bd80310",
   "metadata": {},
   "outputs": [],
   "source": [
    "cv = CountVectorizer(max_features=5000,stop_words='english')"
   ]
  },
  {
   "cell_type": "markdown",
   "id": "521f2d3a",
   "metadata": {},
   "source": [
    "transforming tags columns into sparce matrix"
   ]
  },
  {
   "cell_type": "code",
   "execution_count": 41,
   "id": "8c685674",
   "metadata": {},
   "outputs": [],
   "source": [
    "vector = cv.fit_transform(new_df['tags']).toarray()"
   ]
  },
  {
   "cell_type": "code",
   "execution_count": 42,
   "id": "0f8e548c",
   "metadata": {},
   "outputs": [
    {
     "data": {
      "text/plain": [
       "array([[0, 0, 0, ..., 0, 0, 0],\n",
       "       [0, 0, 0, ..., 0, 0, 0],\n",
       "       [0, 0, 0, ..., 0, 0, 0],\n",
       "       ...,\n",
       "       [0, 0, 0, ..., 0, 0, 0],\n",
       "       [0, 0, 0, ..., 0, 0, 0],\n",
       "       [0, 0, 0, ..., 0, 0, 0]], dtype=int64)"
      ]
     },
     "execution_count": 42,
     "metadata": {},
     "output_type": "execute_result"
    }
   ],
   "source": [
    "vector"
   ]
  },
  {
   "cell_type": "code",
   "execution_count": 43,
   "id": "b698fcbd",
   "metadata": {
    "scrolled": false
   },
   "outputs": [
    {
     "data": {
      "text/plain": [
       "array(['10', '100', '10th', ..., 'yuvraj', 'zakeer', 'zamindar'],\n",
       "      dtype=object)"
      ]
     },
     "execution_count": 43,
     "metadata": {},
     "output_type": "execute_result"
    }
   ],
   "source": [
    "cv.get_feature_names_out()"
   ]
  },
  {
   "cell_type": "markdown",
   "id": "da772463",
   "metadata": {},
   "source": [
    "some words with same meaning are repeating so applying stemming to overcame that problem"
   ]
  },
  {
   "cell_type": "code",
   "execution_count": 44,
   "id": "c624aeee",
   "metadata": {},
   "outputs": [],
   "source": [
    "from nltk.stem.porter import  PorterStemmer"
   ]
  },
  {
   "cell_type": "code",
   "execution_count": 45,
   "id": "dca9b7a1",
   "metadata": {},
   "outputs": [],
   "source": [
    "ps=PorterStemmer()"
   ]
  },
  {
   "cell_type": "code",
   "execution_count": 46,
   "id": "6715129b",
   "metadata": {},
   "outputs": [],
   "source": [
    "def stemming(text):\n",
    "    a=[]\n",
    "    for i in text.split():\n",
    "        ps.stem(i)\n",
    "        a.append(ps.stem(i))\n",
    "        \n",
    "    \n",
    "    return ' '.join(a)"
   ]
  },
  {
   "cell_type": "code",
   "execution_count": 47,
   "id": "1ac86df6",
   "metadata": {
    "scrolled": true
   },
   "outputs": [
    {
     "data": {
      "text/plain": [
       "\"action drama a fictional history of two legendary revolutionaries' journey away from home before they began fighting for their country in the 1920s. n.t.ramaraojr. ramcharan ajaydevgn\""
      ]
     },
     "execution_count": 47,
     "metadata": {},
     "output_type": "execute_result"
    }
   ],
   "source": [
    "new_df['tags'][0]"
   ]
  },
  {
   "cell_type": "code",
   "execution_count": 48,
   "id": "ce891f9b",
   "metadata": {
    "scrolled": true
   },
   "outputs": [
    {
     "data": {
      "text/plain": [
       "\"action drama a fiction histori of two legendari revolutionaries' journey away from home befor they began fight for their countri in the 1920s. n.t.ramaraojr. ramcharan ajaydevgn\""
      ]
     },
     "execution_count": 48,
     "metadata": {},
     "output_type": "execute_result"
    }
   ],
   "source": [
    "stemming(\n",
    "\"action drama a fictional history of two legendary revolutionaries' journey away from home before they began fighting for their country in the 1920s. n.t.ramaraojr. ramcharan ajaydevgn\")"
   ]
  },
  {
   "cell_type": "markdown",
   "id": "0b541884",
   "metadata": {},
   "source": [
    "applying stemming for tags column "
   ]
  },
  {
   "cell_type": "code",
   "execution_count": 49,
   "id": "dc1a67bf",
   "metadata": {},
   "outputs": [
    {
     "name": "stderr",
     "output_type": "stream",
     "text": [
      "C:\\Users\\User\\AppData\\Local\\Temp\\ipykernel_13660\\226593929.py:1: SettingWithCopyWarning: \n",
      "A value is trying to be set on a copy of a slice from a DataFrame.\n",
      "Try using .loc[row_indexer,col_indexer] = value instead\n",
      "\n",
      "See the caveats in the documentation: https://pandas.pydata.org/pandas-docs/stable/user_guide/indexing.html#returning-a-view-versus-a-copy\n",
      "  new_df['tags']=new_df['tags'].apply(stemming)\n"
     ]
    }
   ],
   "source": [
    "new_df['tags']=new_df['tags'].apply(stemming)"
   ]
  },
  {
   "cell_type": "code",
   "execution_count": 50,
   "id": "69d6e67f",
   "metadata": {},
   "outputs": [],
   "source": [
    "vector = cv.fit_transform(new_df['tags']).toarray()"
   ]
  },
  {
   "cell_type": "code",
   "execution_count": 51,
   "id": "5709996f",
   "metadata": {},
   "outputs": [
    {
     "data": {
      "text/plain": [
       "array([[0, 0, 0, ..., 0, 0, 0],\n",
       "       [0, 0, 0, ..., 0, 0, 0],\n",
       "       [0, 0, 0, ..., 0, 0, 0],\n",
       "       ...,\n",
       "       [0, 0, 0, ..., 0, 0, 0],\n",
       "       [0, 0, 0, ..., 0, 0, 0],\n",
       "       [0, 0, 0, ..., 0, 0, 0]], dtype=int64)"
      ]
     },
     "execution_count": 51,
     "metadata": {},
     "output_type": "execute_result"
    }
   ],
   "source": [
    "vector"
   ]
  },
  {
   "cell_type": "code",
   "execution_count": 52,
   "id": "4db6bbf7",
   "metadata": {},
   "outputs": [
    {
     "data": {
      "text/plain": [
       "array(['000', '10', '100', ..., 'yuvraj', 'zakeer', 'zamindar'],\n",
       "      dtype=object)"
      ]
     },
     "execution_count": 52,
     "metadata": {},
     "output_type": "execute_result"
    }
   ],
   "source": [
    "cv.get_feature_names_out()"
   ]
  },
  {
   "cell_type": "markdown",
   "id": "b6afb30b",
   "metadata": {},
   "source": [
    "creating cosign similarity obeject with paasing vector as input to it"
   ]
  },
  {
   "cell_type": "code",
   "execution_count": 53,
   "id": "183ccecf",
   "metadata": {},
   "outputs": [],
   "source": [
    "similarity = cosine_similarity(vector)"
   ]
  },
  {
   "cell_type": "code",
   "execution_count": 54,
   "id": "1ba23cf2",
   "metadata": {},
   "outputs": [
    {
     "data": {
      "text/plain": [
       "(1682, 1682)"
      ]
     },
     "execution_count": 54,
     "metadata": {},
     "output_type": "execute_result"
    }
   ],
   "source": [
    "similarity.shape"
   ]
  },
  {
   "cell_type": "code",
   "execution_count": 55,
   "id": "0c49d591",
   "metadata": {
    "scrolled": false
   },
   "outputs": [
    {
     "data": {
      "text/plain": [
       "array([1.        , 0.08164966, 0.12524486, ..., 0.03580574, 0.04244764,\n",
       "       0.04637389])"
      ]
     },
     "execution_count": 55,
     "metadata": {},
     "output_type": "execute_result"
    }
   ],
   "source": [
    "similarity[0]"
   ]
  },
  {
   "cell_type": "markdown",
   "id": "4f5ebf81",
   "metadata": {},
   "source": [
    "creating a function which will recomend 6 movies similar to the given input movie"
   ]
  },
  {
   "cell_type": "code",
   "execution_count": 56,
   "id": "4a162a4a",
   "metadata": {
    "scrolled": true
   },
   "outputs": [
    {
     "data": {
      "text/plain": [
       "[(1422, 0.3418817293789138),\n",
       " (682, 0.2727723627949905),\n",
       " (237, 0.27003086243366087),\n",
       " (945, 0.26726124191242434),\n",
       " (946, 0.2594372608313854)]"
      ]
     },
     "execution_count": 56,
     "metadata": {},
     "output_type": "execute_result"
    }
   ],
   "source": [
    "sorted(list(enumerate(similarity[4])),reverse=True,key=lambda x:x[1])[1:6]"
   ]
  },
  {
   "cell_type": "code",
   "execution_count": 57,
   "id": "d1e46289",
   "metadata": {},
   "outputs": [],
   "source": [
    "def recomend(movie):\n",
    "    movie_index=new_df[new_df['title']==movie].index[0]\n",
    "    distance=similarity[movie_index] \n",
    "    movie_list=sorted(list(enumerate(distance)),reverse=True,key=lambda x:x[1])[1:8]\n",
    "    \n",
    "\n",
    "    for i in movie_list:\n",
    "       \n",
    "        print(new_df.iloc[i[0]].title)"
   ]
  },
  {
   "cell_type": "code",
   "execution_count": 58,
   "id": "6ce46740",
   "metadata": {},
   "outputs": [
    {
     "name": "stdout",
     "output_type": "stream",
     "text": [
      "Butta Bomma\n",
      "Chirutha\n",
      "Kumari 21F\n",
      "Dhada\n",
      "Kathi\n",
      "Pelli SandaD\n",
      "Ashok\n"
     ]
    }
   ],
   "source": [
    "recomend('Arjun Reddy')"
   ]
  },
  {
   "cell_type": "markdown",
   "id": "9e7e9501",
   "metadata": {},
   "source": [
    "pickling movies dataframe and similrity obejct for web app building "
   ]
  },
  {
   "cell_type": "code",
   "execution_count": 59,
   "id": "c897d382",
   "metadata": {},
   "outputs": [],
   "source": [
    "pickle.dump(movies.to_dict(),open('movies with posters.pkl','wb'))"
   ]
  },
  {
   "cell_type": "code",
   "execution_count": 60,
   "id": "fbe1059f",
   "metadata": {},
   "outputs": [],
   "source": [
    "pickle.dump(similarity,open('similarity.pkl','wb'))"
   ]
  },
  {
   "cell_type": "code",
   "execution_count": null,
   "id": "7020dd9b",
   "metadata": {},
   "outputs": [],
   "source": []
  }
 ],
 "metadata": {
  "kernelspec": {
   "display_name": "Python 3 (ipykernel)",
   "language": "python",
   "name": "python3"
  },
  "language_info": {
   "codemirror_mode": {
    "name": "ipython",
    "version": 3
   },
   "file_extension": ".py",
   "mimetype": "text/x-python",
   "name": "python",
   "nbconvert_exporter": "python",
   "pygments_lexer": "ipython3",
   "version": "3.9.16"
  }
 },
 "nbformat": 4,
 "nbformat_minor": 5
}
